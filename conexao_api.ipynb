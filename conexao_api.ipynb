{
 "cells": [
  {
   "cell_type": "markdown",
   "id": "52b720aa",
   "metadata": {},
   "source": [
    "# Sistema de conexao com api\n"
   ]
  },
  {
   "cell_type": "code",
   "execution_count": 22,
   "id": "d8a191c8",
   "metadata": {},
   "outputs": [],
   "source": [
    "#conexão\n",
    "import requests"
   ]
  },
  {
   "cell_type": "code",
   "execution_count": 23,
   "id": "cbb20e56",
   "metadata": {},
   "outputs": [
    {
     "data": {
      "text/plain": [
       "{'Valor_Aluguel': '[1560.38066265]'}"
      ]
     },
     "execution_count": 23,
     "metadata": {},
     "output_type": "execute_result"
    }
   ],
   "source": [
    "#Local da URL\n",
    "url = 'http://127.0.0.1:5000/app_preditivo/25;1;1;0;0;0;0;0;84'\n",
    "\n",
    "# Acessar a conexão\n",
    "Consulta = requests.get( url )\n",
    "\n",
    "# Buscar a info\n",
    "Resposta = Consulta.json()\n",
    "\n",
    "# Devolução\n",
    "Resposta"
   ]
  },
  {
   "cell_type": "code",
   "execution_count": null,
   "id": "79131be3",
   "metadata": {},
   "outputs": [],
   "source": []
  }
 ],
 "metadata": {
  "kernelspec": {
   "display_name": "Python 3 (ipykernel)",
   "language": "python",
   "name": "python3"
  },
  "language_info": {
   "codemirror_mode": {
    "name": "ipython",
    "version": 3
   },
   "file_extension": ".py",
   "mimetype": "text/x-python",
   "name": "python",
   "nbconvert_exporter": "python",
   "pygments_lexer": "ipython3",
   "version": "3.9.13"
  }
 },
 "nbformat": 4,
 "nbformat_minor": 5
}
