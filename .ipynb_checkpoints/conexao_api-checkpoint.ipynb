{
 "cells": [
  {
   "cell_type": "markdown",
   "id": "aab29c82",
   "metadata": {},
   "source": [
    "# Sistema de conexao com api\n"
   ]
  },
  {
   "cell_type": "code",
   "execution_count": 19,
   "id": "204cd4e4",
   "metadata": {},
   "outputs": [],
   "source": [
    "#conexão\n",
    "import requests"
   ]
  },
  {
   "cell_type": "code",
   "execution_count": 21,
   "id": "47c4fa31",
   "metadata": {},
   "outputs": [
    {
     "data": {
      "text/plain": [
       "{'Valor_Aluguel': '[1560.38066265]'}"
      ]
     },
     "execution_count": 21,
     "metadata": {},
     "output_type": "execute_result"
    }
   ],
   "source": [
    "#Local da URL\n",
    "url = 'http://127.0.0.1:5000/app_preditivo/25;1;1;0;0;0;0;0;84'\n",
    "\n",
    "# Acessar a conexão\n",
    "Consulta = requests.get(url)\n",
    "\n",
    "# Buscar a info\n",
    "Resposta = Consulta.json()\n",
    "\n",
    "# Devolução\n",
    "Resposta"
   ]
  }
 ],
 "metadata": {
  "kernelspec": {
   "display_name": "Python 3",
   "language": "python",
   "name": "python3"
  },
  "language_info": {
   "codemirror_mode": {
    "name": "ipython",
    "version": 3
   },
   "file_extension": ".py",
   "mimetype": "text/x-python",
   "name": "python",
   "nbconvert_exporter": "python",
   "pygments_lexer": "ipython3",
   "version": "3.11.1"
  },
  "vscode": {
   "interpreter": {
    "hash": "d82c1d93bb306390d09f23da3285a8fc51ae2f3168294d711572deb5a95602ca"
   }
  }
 },
 "nbformat": 4,
 "nbformat_minor": 5
}
