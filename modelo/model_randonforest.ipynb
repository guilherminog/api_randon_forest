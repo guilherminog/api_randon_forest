{
  "cells": [
    {
      "cell_type": "markdown",
      "metadata": {
        "id": "foy8FDTHori6"
      },
      "source": [
        "# **Import Bibliotecas**"
      ]
    },
    {
      "cell_type": "code",
      "execution_count": null,
      "metadata": {
        "id": "ywhh7M78vDw3"
      },
      "outputs": [],
      "source": [
        "# Libs necessarias\n",
        "import pandas as pd\n",
        "import numpy as np\n",
        "\n",
        "# Lib graficas\n",
        "import matplotlib.pyplot as plt\n",
        "import seaborn as sns\n",
        "\n",
        "# Avisos\n",
        "import warnings\n",
        "warnings.filterwarnings('ignore')\n",
        "\n",
        "# Confiração no pandas\n",
        "pd.set_option('display.max_rows', 200)\n",
        "pd.set_option('display.max_columns', 100)\n",
        "\n",
        "# Configuração no Matplotlib\n",
        "plt.rcParams['figure.figsize'] = (15, 6)\n",
        "plt.style.use('seaborn-darkgrid')"
      ]
    },
    {
      "cell_type": "markdown",
      "metadata": {
        "id": "qCqYzCS7wKnq"
      },
      "source": [
        "# **Exploração dos dados**"
      ]
    },
    {
      "cell_type": "code",
      "execution_count": null,
      "metadata": {
        "colab": {
          "base_uri": "https://localhost:8080/"
        },
        "id": "ZZEgHJi0wF3N",
        "outputId": "d1bc00be-2c23-4400-c6c6-9e10ec11ff85"
      },
      "outputs": [
        {
          "data": {
            "text/plain": [
              "(10692, 13)"
            ]
          },
          "execution_count": 4,
          "metadata": {},
          "output_type": "execute_result"
        }
      ],
      "source": [
        "# Lendo os dados\n",
        "Base_Dados = pd.read_csv('/content/house_data.csv')\n",
        "\n",
        "# Dimensão\n",
        "Base_Dados.shape"
      ]
    },
    {
      "cell_type": "code",
      "execution_count": null,
      "metadata": {
        "id": "0Js1GCEbJw60"
      },
      "outputs": [],
      "source": [
        "from google.colab import drive\n",
        "drive.mount('/content/drive')"
      ]
    },
    {
      "cell_type": "code",
      "execution_count": null,
      "metadata": {
        "colab": {
          "base_uri": "https://localhost:8080/",
          "height": 206
        },
        "id": "kIBN7E5LwXzr",
        "outputId": "9a4a819c-f878-4472-ea96-177c24315a11"
      },
      "outputs": [
        {
          "data": {
            "text/html": [
              "\n",
              "  <div id=\"df-4b2293b5-e518-4490-8884-c2a3895f10e5\">\n",
              "    <div class=\"colab-df-container\">\n",
              "      <div>\n",
              "<style scoped>\n",
              "    .dataframe tbody tr th:only-of-type {\n",
              "        vertical-align: middle;\n",
              "    }\n",
              "\n",
              "    .dataframe tbody tr th {\n",
              "        vertical-align: top;\n",
              "    }\n",
              "\n",
              "    .dataframe thead th {\n",
              "        text-align: right;\n",
              "    }\n",
              "</style>\n",
              "<table border=\"1\" class=\"dataframe\">\n",
              "  <thead>\n",
              "    <tr style=\"text-align: right;\">\n",
              "      <th></th>\n",
              "      <th>city</th>\n",
              "      <th>area</th>\n",
              "      <th>rooms</th>\n",
              "      <th>bathroom</th>\n",
              "      <th>parking spaces</th>\n",
              "      <th>floor</th>\n",
              "      <th>animal</th>\n",
              "      <th>furniture</th>\n",
              "      <th>hoa (R$)</th>\n",
              "      <th>rent amount (R$)</th>\n",
              "      <th>property tax (R$)</th>\n",
              "      <th>fire insurance (R$)</th>\n",
              "      <th>total (R$)</th>\n",
              "    </tr>\n",
              "  </thead>\n",
              "  <tbody>\n",
              "    <tr>\n",
              "      <th>0</th>\n",
              "      <td>São Paulo</td>\n",
              "      <td>70</td>\n",
              "      <td>2</td>\n",
              "      <td>1</td>\n",
              "      <td>1</td>\n",
              "      <td>7</td>\n",
              "      <td>acept</td>\n",
              "      <td>furnished</td>\n",
              "      <td>2065</td>\n",
              "      <td>3300</td>\n",
              "      <td>211</td>\n",
              "      <td>42</td>\n",
              "      <td>5618</td>\n",
              "    </tr>\n",
              "    <tr>\n",
              "      <th>1</th>\n",
              "      <td>São Paulo</td>\n",
              "      <td>320</td>\n",
              "      <td>4</td>\n",
              "      <td>4</td>\n",
              "      <td>0</td>\n",
              "      <td>20</td>\n",
              "      <td>acept</td>\n",
              "      <td>not furnished</td>\n",
              "      <td>1200</td>\n",
              "      <td>4960</td>\n",
              "      <td>1750</td>\n",
              "      <td>63</td>\n",
              "      <td>7973</td>\n",
              "    </tr>\n",
              "    <tr>\n",
              "      <th>2</th>\n",
              "      <td>Porto Alegre</td>\n",
              "      <td>80</td>\n",
              "      <td>1</td>\n",
              "      <td>1</td>\n",
              "      <td>1</td>\n",
              "      <td>6</td>\n",
              "      <td>acept</td>\n",
              "      <td>not furnished</td>\n",
              "      <td>1000</td>\n",
              "      <td>2800</td>\n",
              "      <td>0</td>\n",
              "      <td>41</td>\n",
              "      <td>3841</td>\n",
              "    </tr>\n",
              "    <tr>\n",
              "      <th>3</th>\n",
              "      <td>Porto Alegre</td>\n",
              "      <td>51</td>\n",
              "      <td>2</td>\n",
              "      <td>1</td>\n",
              "      <td>0</td>\n",
              "      <td>2</td>\n",
              "      <td>acept</td>\n",
              "      <td>not furnished</td>\n",
              "      <td>270</td>\n",
              "      <td>1112</td>\n",
              "      <td>22</td>\n",
              "      <td>17</td>\n",
              "      <td>1421</td>\n",
              "    </tr>\n",
              "    <tr>\n",
              "      <th>4</th>\n",
              "      <td>São Paulo</td>\n",
              "      <td>25</td>\n",
              "      <td>1</td>\n",
              "      <td>1</td>\n",
              "      <td>0</td>\n",
              "      <td>1</td>\n",
              "      <td>not acept</td>\n",
              "      <td>not furnished</td>\n",
              "      <td>0</td>\n",
              "      <td>800</td>\n",
              "      <td>25</td>\n",
              "      <td>11</td>\n",
              "      <td>836</td>\n",
              "    </tr>\n",
              "  </tbody>\n",
              "</table>\n",
              "</div>\n",
              "      <button class=\"colab-df-convert\" onclick=\"convertToInteractive('df-4b2293b5-e518-4490-8884-c2a3895f10e5')\"\n",
              "              title=\"Convert this dataframe to an interactive table.\"\n",
              "              style=\"display:none;\">\n",
              "        \n",
              "  <svg xmlns=\"http://www.w3.org/2000/svg\" height=\"24px\"viewBox=\"0 0 24 24\"\n",
              "       width=\"24px\">\n",
              "    <path d=\"M0 0h24v24H0V0z\" fill=\"none\"/>\n",
              "    <path d=\"M18.56 5.44l.94 2.06.94-2.06 2.06-.94-2.06-.94-.94-2.06-.94 2.06-2.06.94zm-11 1L8.5 8.5l.94-2.06 2.06-.94-2.06-.94L8.5 2.5l-.94 2.06-2.06.94zm10 10l.94 2.06.94-2.06 2.06-.94-2.06-.94-.94-2.06-.94 2.06-2.06.94z\"/><path d=\"M17.41 7.96l-1.37-1.37c-.4-.4-.92-.59-1.43-.59-.52 0-1.04.2-1.43.59L10.3 9.45l-7.72 7.72c-.78.78-.78 2.05 0 2.83L4 21.41c.39.39.9.59 1.41.59.51 0 1.02-.2 1.41-.59l7.78-7.78 2.81-2.81c.8-.78.8-2.07 0-2.86zM5.41 20L4 18.59l7.72-7.72 1.47 1.35L5.41 20z\"/>\n",
              "  </svg>\n",
              "      </button>\n",
              "      \n",
              "  <style>\n",
              "    .colab-df-container {\n",
              "      display:flex;\n",
              "      flex-wrap:wrap;\n",
              "      gap: 12px;\n",
              "    }\n",
              "\n",
              "    .colab-df-convert {\n",
              "      background-color: #E8F0FE;\n",
              "      border: none;\n",
              "      border-radius: 50%;\n",
              "      cursor: pointer;\n",
              "      display: none;\n",
              "      fill: #1967D2;\n",
              "      height: 32px;\n",
              "      padding: 0 0 0 0;\n",
              "      width: 32px;\n",
              "    }\n",
              "\n",
              "    .colab-df-convert:hover {\n",
              "      background-color: #E2EBFA;\n",
              "      box-shadow: 0px 1px 2px rgba(60, 64, 67, 0.3), 0px 1px 3px 1px rgba(60, 64, 67, 0.15);\n",
              "      fill: #174EA6;\n",
              "    }\n",
              "\n",
              "    [theme=dark] .colab-df-convert {\n",
              "      background-color: #3B4455;\n",
              "      fill: #D2E3FC;\n",
              "    }\n",
              "\n",
              "    [theme=dark] .colab-df-convert:hover {\n",
              "      background-color: #434B5C;\n",
              "      box-shadow: 0px 1px 3px 1px rgba(0, 0, 0, 0.15);\n",
              "      filter: drop-shadow(0px 1px 2px rgba(0, 0, 0, 0.3));\n",
              "      fill: #FFFFFF;\n",
              "    }\n",
              "  </style>\n",
              "\n",
              "      <script>\n",
              "        const buttonEl =\n",
              "          document.querySelector('#df-4b2293b5-e518-4490-8884-c2a3895f10e5 button.colab-df-convert');\n",
              "        buttonEl.style.display =\n",
              "          google.colab.kernel.accessAllowed ? 'block' : 'none';\n",
              "\n",
              "        async function convertToInteractive(key) {\n",
              "          const element = document.querySelector('#df-4b2293b5-e518-4490-8884-c2a3895f10e5');\n",
              "          const dataTable =\n",
              "            await google.colab.kernel.invokeFunction('convertToInteractive',\n",
              "                                                     [key], {});\n",
              "          if (!dataTable) return;\n",
              "\n",
              "          const docLinkHtml = 'Like what you see? Visit the ' +\n",
              "            '<a target=\"_blank\" href=https://colab.research.google.com/notebooks/data_table.ipynb>data table notebook</a>'\n",
              "            + ' to learn more about interactive tables.';\n",
              "          element.innerHTML = '';\n",
              "          dataTable['output_type'] = 'display_data';\n",
              "          await google.colab.output.renderOutput(dataTable, element);\n",
              "          const docLink = document.createElement('div');\n",
              "          docLink.innerHTML = docLinkHtml;\n",
              "          element.appendChild(docLink);\n",
              "        }\n",
              "      </script>\n",
              "    </div>\n",
              "  </div>\n",
              "  "
            ],
            "text/plain": [
              "           city  area  rooms  bathroom  parking spaces floor     animal  \\\n",
              "0     São Paulo    70      2         1               1     7      acept   \n",
              "1     São Paulo   320      4         4               0    20      acept   \n",
              "2  Porto Alegre    80      1         1               1     6      acept   \n",
              "3  Porto Alegre    51      2         1               0     2      acept   \n",
              "4     São Paulo    25      1         1               0     1  not acept   \n",
              "\n",
              "       furniture  hoa (R$)  rent amount (R$)  property tax (R$)  \\\n",
              "0      furnished      2065              3300                211   \n",
              "1  not furnished      1200              4960               1750   \n",
              "2  not furnished      1000              2800                  0   \n",
              "3  not furnished       270              1112                 22   \n",
              "4  not furnished         0               800                 25   \n",
              "\n",
              "   fire insurance (R$)  total (R$)  \n",
              "0                   42        5618  \n",
              "1                   63        7973  \n",
              "2                   41        3841  \n",
              "3                   17        1421  \n",
              "4                   11         836  "
            ]
          },
          "execution_count": 5,
          "metadata": {},
          "output_type": "execute_result"
        }
      ],
      "source": [
        "# Verificar\n",
        "Base_Dados.head()"
      ]
    },
    {
      "cell_type": "code",
      "execution_count": null,
      "metadata": {
        "id": "ceZ8e9FBOA4A"
      },
      "outputs": [],
      "source": [
        "# Removendo colunas\n",
        "Base_Dados.drop( columns=['fire insurance (R$)', 'total (R$)'], inplace=True )"
      ]
    },
    {
      "cell_type": "code",
      "execution_count": null,
      "metadata": {
        "id": "VHHxvJLMJmX0"
      },
      "outputs": [],
      "source": [
        "# renomeando colunas\n",
        "Base_Dados.rename(columns={'city': 'cidade', 'floor': 'andar', 'animal': 'animais', 'furniture': 'moveis', 'area': 'm2' , 'rooms': 'quartos', 'bathroom': 'banheiro', 'parking spaces':'garagem', 'hoa (R$)':'condominio',\n",
        "                           'rent amount (R$)':'aluguel (R$)', 'property tax (R$)': 'taxas (R$)'}, inplace = True)"
      ]
    },
    {
      "cell_type": "code",
      "execution_count": null,
      "metadata": {
        "id": "j3GfwBrgLVxT"
      },
      "outputs": [],
      "source": [
        "# renomeando str - txt/palavras em nos dados (linhas)\n",
        "Base_Dados.replace({'furnished':'mobiliado', 'not furnished':'não mobiliado','acept':'aceita', 'not acept':'não aceita' }, inplace = True)"
      ]
    },
    {
      "cell_type": "code",
      "execution_count": null,
      "metadata": {
        "colab": {
          "base_uri": "https://localhost:8080/",
          "height": 206
        },
        "id": "2fFy36U-Jxd3",
        "outputId": "09aaae50-b374-4721-b32b-3e51090c3bd3"
      },
      "outputs": [
        {
          "data": {
            "text/html": [
              "\n",
              "  <div id=\"df-528cd18b-d22b-45e4-aa6d-694e7fad1a13\">\n",
              "    <div class=\"colab-df-container\">\n",
              "      <div>\n",
              "<style scoped>\n",
              "    .dataframe tbody tr th:only-of-type {\n",
              "        vertical-align: middle;\n",
              "    }\n",
              "\n",
              "    .dataframe tbody tr th {\n",
              "        vertical-align: top;\n",
              "    }\n",
              "\n",
              "    .dataframe thead th {\n",
              "        text-align: right;\n",
              "    }\n",
              "</style>\n",
              "<table border=\"1\" class=\"dataframe\">\n",
              "  <thead>\n",
              "    <tr style=\"text-align: right;\">\n",
              "      <th></th>\n",
              "      <th>cidade</th>\n",
              "      <th>m2</th>\n",
              "      <th>quartos</th>\n",
              "      <th>banheiro</th>\n",
              "      <th>garagem</th>\n",
              "      <th>andar</th>\n",
              "      <th>animais</th>\n",
              "      <th>moveis</th>\n",
              "      <th>condominio</th>\n",
              "      <th>aluguel (R$)</th>\n",
              "      <th>taxas (R$)</th>\n",
              "    </tr>\n",
              "  </thead>\n",
              "  <tbody>\n",
              "    <tr>\n",
              "      <th>0</th>\n",
              "      <td>São Paulo</td>\n",
              "      <td>70</td>\n",
              "      <td>2</td>\n",
              "      <td>1</td>\n",
              "      <td>1</td>\n",
              "      <td>7</td>\n",
              "      <td>aceita</td>\n",
              "      <td>mobiliado</td>\n",
              "      <td>2065</td>\n",
              "      <td>3300</td>\n",
              "      <td>211</td>\n",
              "    </tr>\n",
              "    <tr>\n",
              "      <th>1</th>\n",
              "      <td>São Paulo</td>\n",
              "      <td>320</td>\n",
              "      <td>4</td>\n",
              "      <td>4</td>\n",
              "      <td>0</td>\n",
              "      <td>20</td>\n",
              "      <td>aceita</td>\n",
              "      <td>não mobiliado</td>\n",
              "      <td>1200</td>\n",
              "      <td>4960</td>\n",
              "      <td>1750</td>\n",
              "    </tr>\n",
              "    <tr>\n",
              "      <th>2</th>\n",
              "      <td>Porto Alegre</td>\n",
              "      <td>80</td>\n",
              "      <td>1</td>\n",
              "      <td>1</td>\n",
              "      <td>1</td>\n",
              "      <td>6</td>\n",
              "      <td>aceita</td>\n",
              "      <td>não mobiliado</td>\n",
              "      <td>1000</td>\n",
              "      <td>2800</td>\n",
              "      <td>0</td>\n",
              "    </tr>\n",
              "    <tr>\n",
              "      <th>3</th>\n",
              "      <td>Porto Alegre</td>\n",
              "      <td>51</td>\n",
              "      <td>2</td>\n",
              "      <td>1</td>\n",
              "      <td>0</td>\n",
              "      <td>2</td>\n",
              "      <td>aceita</td>\n",
              "      <td>não mobiliado</td>\n",
              "      <td>270</td>\n",
              "      <td>1112</td>\n",
              "      <td>22</td>\n",
              "    </tr>\n",
              "    <tr>\n",
              "      <th>4</th>\n",
              "      <td>São Paulo</td>\n",
              "      <td>25</td>\n",
              "      <td>1</td>\n",
              "      <td>1</td>\n",
              "      <td>0</td>\n",
              "      <td>1</td>\n",
              "      <td>não aceita</td>\n",
              "      <td>não mobiliado</td>\n",
              "      <td>0</td>\n",
              "      <td>800</td>\n",
              "      <td>25</td>\n",
              "    </tr>\n",
              "  </tbody>\n",
              "</table>\n",
              "</div>\n",
              "      <button class=\"colab-df-convert\" onclick=\"convertToInteractive('df-528cd18b-d22b-45e4-aa6d-694e7fad1a13')\"\n",
              "              title=\"Convert this dataframe to an interactive table.\"\n",
              "              style=\"display:none;\">\n",
              "        \n",
              "  <svg xmlns=\"http://www.w3.org/2000/svg\" height=\"24px\"viewBox=\"0 0 24 24\"\n",
              "       width=\"24px\">\n",
              "    <path d=\"M0 0h24v24H0V0z\" fill=\"none\"/>\n",
              "    <path d=\"M18.56 5.44l.94 2.06.94-2.06 2.06-.94-2.06-.94-.94-2.06-.94 2.06-2.06.94zm-11 1L8.5 8.5l.94-2.06 2.06-.94-2.06-.94L8.5 2.5l-.94 2.06-2.06.94zm10 10l.94 2.06.94-2.06 2.06-.94-2.06-.94-.94-2.06-.94 2.06-2.06.94z\"/><path d=\"M17.41 7.96l-1.37-1.37c-.4-.4-.92-.59-1.43-.59-.52 0-1.04.2-1.43.59L10.3 9.45l-7.72 7.72c-.78.78-.78 2.05 0 2.83L4 21.41c.39.39.9.59 1.41.59.51 0 1.02-.2 1.41-.59l7.78-7.78 2.81-2.81c.8-.78.8-2.07 0-2.86zM5.41 20L4 18.59l7.72-7.72 1.47 1.35L5.41 20z\"/>\n",
              "  </svg>\n",
              "      </button>\n",
              "      \n",
              "  <style>\n",
              "    .colab-df-container {\n",
              "      display:flex;\n",
              "      flex-wrap:wrap;\n",
              "      gap: 12px;\n",
              "    }\n",
              "\n",
              "    .colab-df-convert {\n",
              "      background-color: #E8F0FE;\n",
              "      border: none;\n",
              "      border-radius: 50%;\n",
              "      cursor: pointer;\n",
              "      display: none;\n",
              "      fill: #1967D2;\n",
              "      height: 32px;\n",
              "      padding: 0 0 0 0;\n",
              "      width: 32px;\n",
              "    }\n",
              "\n",
              "    .colab-df-convert:hover {\n",
              "      background-color: #E2EBFA;\n",
              "      box-shadow: 0px 1px 2px rgba(60, 64, 67, 0.3), 0px 1px 3px 1px rgba(60, 64, 67, 0.15);\n",
              "      fill: #174EA6;\n",
              "    }\n",
              "\n",
              "    [theme=dark] .colab-df-convert {\n",
              "      background-color: #3B4455;\n",
              "      fill: #D2E3FC;\n",
              "    }\n",
              "\n",
              "    [theme=dark] .colab-df-convert:hover {\n",
              "      background-color: #434B5C;\n",
              "      box-shadow: 0px 1px 3px 1px rgba(0, 0, 0, 0.15);\n",
              "      filter: drop-shadow(0px 1px 2px rgba(0, 0, 0, 0.3));\n",
              "      fill: #FFFFFF;\n",
              "    }\n",
              "  </style>\n",
              "\n",
              "      <script>\n",
              "        const buttonEl =\n",
              "          document.querySelector('#df-528cd18b-d22b-45e4-aa6d-694e7fad1a13 button.colab-df-convert');\n",
              "        buttonEl.style.display =\n",
              "          google.colab.kernel.accessAllowed ? 'block' : 'none';\n",
              "\n",
              "        async function convertToInteractive(key) {\n",
              "          const element = document.querySelector('#df-528cd18b-d22b-45e4-aa6d-694e7fad1a13');\n",
              "          const dataTable =\n",
              "            await google.colab.kernel.invokeFunction('convertToInteractive',\n",
              "                                                     [key], {});\n",
              "          if (!dataTable) return;\n",
              "\n",
              "          const docLinkHtml = 'Like what you see? Visit the ' +\n",
              "            '<a target=\"_blank\" href=https://colab.research.google.com/notebooks/data_table.ipynb>data table notebook</a>'\n",
              "            + ' to learn more about interactive tables.';\n",
              "          element.innerHTML = '';\n",
              "          dataTable['output_type'] = 'display_data';\n",
              "          await google.colab.output.renderOutput(dataTable, element);\n",
              "          const docLink = document.createElement('div');\n",
              "          docLink.innerHTML = docLinkHtml;\n",
              "          element.appendChild(docLink);\n",
              "        }\n",
              "      </script>\n",
              "    </div>\n",
              "  </div>\n",
              "  "
            ],
            "text/plain": [
              "         cidade   m2  quartos  banheiro  garagem andar     animais  \\\n",
              "0     São Paulo   70        2         1        1     7      aceita   \n",
              "1     São Paulo  320        4         4        0    20      aceita   \n",
              "2  Porto Alegre   80        1         1        1     6      aceita   \n",
              "3  Porto Alegre   51        2         1        0     2      aceita   \n",
              "4     São Paulo   25        1         1        0     1  não aceita   \n",
              "\n",
              "          moveis  condominio  aluguel (R$)  taxas (R$)  \n",
              "0      mobiliado        2065          3300         211  \n",
              "1  não mobiliado        1200          4960        1750  \n",
              "2  não mobiliado        1000          2800           0  \n",
              "3  não mobiliado         270          1112          22  \n",
              "4  não mobiliado           0           800          25  "
            ]
          },
          "execution_count": 9,
          "metadata": {},
          "output_type": "execute_result"
        }
      ],
      "source": [
        "Base_Dados.head()"
      ]
    },
    {
      "cell_type": "code",
      "execution_count": null,
      "metadata": {
        "colab": {
          "base_uri": "https://localhost:8080/"
        },
        "id": "oPQvDNSbxzJu",
        "outputId": "3bedf196-62a9-4198-d346-4d5795f9b27a"
      },
      "outputs": [
        {
          "data": {
            "text/plain": [
              "(10692, 11)"
            ]
          },
          "execution_count": 10,
          "metadata": {},
          "output_type": "execute_result"
        }
      ],
      "source": [
        "# Verificar\n",
        "Base_Dados.shape"
      ]
    },
    {
      "cell_type": "code",
      "execution_count": null,
      "metadata": {
        "colab": {
          "base_uri": "https://localhost:8080/"
        },
        "id": "GqKAhOIqx5Yr",
        "outputId": "af5ae335-ce30-49d8-ad7e-e893610442b6"
      },
      "outputs": [
        {
          "data": {
            "text/plain": [
              "cidade          0\n",
              "m2              0\n",
              "quartos         0\n",
              "banheiro        0\n",
              "garagem         0\n",
              "andar           0\n",
              "animais         0\n",
              "moveis          0\n",
              "condominio      0\n",
              "aluguel (R$)    0\n",
              "taxas (R$)      0\n",
              "dtype: int64"
            ]
          },
          "execution_count": 11,
          "metadata": {},
          "output_type": "execute_result"
        }
      ],
      "source": [
        "# Campos vazios\n",
        "Base_Dados.isnull().sum().sort_values( ascending=False )"
      ]
    },
    {
      "cell_type": "code",
      "execution_count": null,
      "metadata": {
        "colab": {
          "base_uri": "https://localhost:8080/"
        },
        "id": "0GTQKhVJx-dY",
        "outputId": "1fe99ce7-404b-4f8c-9ae1-b4b11962d9c2"
      },
      "outputs": [
        {
          "data": {
            "text/plain": [
              "cidade             5\n",
              "m2               517\n",
              "quartos           11\n",
              "banheiro          10\n",
              "garagem           11\n",
              "andar             35\n",
              "animais            2\n",
              "moveis             2\n",
              "condominio      1679\n",
              "aluguel (R$)    1195\n",
              "taxas (R$)      1243\n",
              "dtype: int64"
            ]
          },
          "execution_count": 12,
          "metadata": {},
          "output_type": "execute_result"
        }
      ],
      "source": [
        "# Campos unicos\n",
        "Base_Dados.nunique()"
      ]
    },
    {
      "cell_type": "code",
      "execution_count": null,
      "metadata": {
        "colab": {
          "base_uri": "https://localhost:8080/"
        },
        "id": "WVIYTySYyNQz",
        "outputId": "7aa1b70c-c097-43d3-a2cd-ed08f2dd8800"
      },
      "outputs": [
        {
          "name": "stdout",
          "output_type": "stream",
          "text": [
            "<class 'pandas.core.frame.DataFrame'>\n",
            "RangeIndex: 10692 entries, 0 to 10691\n",
            "Data columns (total 11 columns):\n",
            " #   Column        Non-Null Count  Dtype \n",
            "---  ------        --------------  ----- \n",
            " 0   cidade        10692 non-null  object\n",
            " 1   m2            10692 non-null  int64 \n",
            " 2   quartos       10692 non-null  int64 \n",
            " 3   banheiro      10692 non-null  int64 \n",
            " 4   garagem       10692 non-null  int64 \n",
            " 5   andar         10692 non-null  object\n",
            " 6   animais       10692 non-null  object\n",
            " 7   moveis        10692 non-null  object\n",
            " 8   condominio    10692 non-null  int64 \n",
            " 9   aluguel (R$)  10692 non-null  int64 \n",
            " 10  taxas (R$)    10692 non-null  int64 \n",
            "dtypes: int64(7), object(4)\n",
            "memory usage: 919.0+ KB\n"
          ]
        }
      ],
      "source": [
        "# Tipos das colunas\n",
        "Base_Dados.info()"
      ]
    },
    {
      "cell_type": "code",
      "execution_count": null,
      "metadata": {
        "colab": {
          "base_uri": "https://localhost:8080/"
        },
        "id": "oV3BOBwNybmE",
        "outputId": "08dca5e0-f023-4c22-b182-ab490f264102"
      },
      "outputs": [
        {
          "data": {
            "text/plain": [
              "int64     7\n",
              "object    4\n",
              "dtype: int64"
            ]
          },
          "execution_count": 14,
          "metadata": {},
          "output_type": "execute_result"
        }
      ],
      "source": [
        "# Tipo de colunas (Quantidade de cada tipo)\n",
        "Base_Dados.dtypes.value_counts()"
      ]
    },
    {
      "cell_type": "markdown",
      "metadata": {
        "id": "geNMlUmhy5OE"
      },
      "source": [
        "# **Exploração Analitica (EDA)**"
      ]
    },
    {
      "cell_type": "code",
      "execution_count": null,
      "metadata": {
        "colab": {
          "base_uri": "https://localhost:8080/"
        },
        "id": "F0tt8Zm3ylVT",
        "outputId": "1b21518b-0b9d-42c6-85a3-ab1aef068d5a"
      },
      "outputs": [
        {
          "data": {
            "text/plain": [
              "(Index(['cidade', 'andar', 'animais', 'moveis'], dtype='object'),\n",
              " Index(['m2', 'quartos', 'banheiro', 'garagem', 'condominio', 'aluguel (R$)',\n",
              "        'taxas (R$)'],\n",
              "       dtype='object'))"
            ]
          },
          "execution_count": 15,
          "metadata": {},
          "output_type": "execute_result"
        }
      ],
      "source": [
        "# Filtrar os tipos de colunas\n",
        "Colunas_Categoricas = Base_Dados.columns[ Base_Dados.dtypes == object ]\n",
        "Colunas_Numericas = Base_Dados.columns[ Base_Dados.dtypes != object ]\n",
        "\n",
        "Colunas_Categoricas, Colunas_Numericas"
      ]
    },
    {
      "cell_type": "code",
      "execution_count": null,
      "metadata": {
        "colab": {
          "base_uri": "https://localhost:8080/"
        },
        "id": "UV7BRN-JzMb-",
        "outputId": "f2bff2a1-66f1-46f8-ea78-b9c592cd5380"
      },
      "outputs": [
        {
          "data": {
            "text/plain": [
              "São Paulo         55.059858\n",
              "Rio de Janeiro    14.038533\n",
              "Belo Horizonte    11.765806\n",
              "Porto Alegre      11.157875\n",
              "Campinas           7.977927\n",
              "Name: cidade, dtype: float64"
            ]
          },
          "execution_count": 16,
          "metadata": {},
          "output_type": "execute_result"
        }
      ],
      "source": [
        "# Analise dos campos objetos\n",
        "Base_Dados['cidade'].value_counts( normalize=True ) * 100"
      ]
    },
    {
      "cell_type": "code",
      "execution_count": null,
      "metadata": {
        "colab": {
          "base_uri": "https://localhost:8080/"
        },
        "id": "zkcY4kZ_0h8E",
        "outputId": "0b809222-9f49-45d5-88db-2b75e3f1a5d5"
      },
      "outputs": [
        {
          "name": "stdout",
          "output_type": "stream",
          "text": [
            "cidade \n",
            " São Paulo         55.059858\n",
            "Rio de Janeiro    14.038533\n",
            "Belo Horizonte    11.765806\n",
            "Porto Alegre      11.157875\n",
            "Campinas           7.977927\n",
            "Name: cidade, dtype: float64 \n",
            "\n",
            "andar \n",
            " -      23.017209\n",
            "1      10.110363\n",
            "2       9.212495\n",
            "3       8.707445\n",
            "4       6.995885\n",
            "5       5.611672\n",
            "6       5.041152\n",
            "7       4.648335\n",
            "8       4.582866\n",
            "9       3.451178\n",
            "10      3.338945\n",
            "11      2.833895\n",
            "12      2.403666\n",
            "13      1.870557\n",
            "14      1.589974\n",
            "15      1.374860\n",
            "16      1.019454\n",
            "17      0.897868\n",
            "18      0.701459\n",
            "19      0.495698\n",
            "20      0.411523\n",
            "21      0.392817\n",
            "25      0.233820\n",
            "23      0.233820\n",
            "22      0.224467\n",
            "26      0.187056\n",
            "24      0.177703\n",
            "27      0.074822\n",
            "28      0.056117\n",
            "29      0.046764\n",
            "32      0.018706\n",
            "35      0.009353\n",
            "46      0.009353\n",
            "301     0.009353\n",
            "51      0.009353\n",
            "Name: andar, dtype: float64 \n",
            "\n",
            "animais \n",
            " aceita        77.777778\n",
            "não aceita    22.222222\n",
            "Name: animais, dtype: float64 \n",
            "\n",
            "moveis \n",
            " não mobiliado    75.626637\n",
            "mobiliado        24.373363\n",
            "Name: moveis, dtype: float64 \n",
            "\n"
          ]
        }
      ],
      "source": [
        "# Loop\n",
        "for Coluna in Colunas_Categoricas:\n",
        "\n",
        "  # Fazendo a analise\n",
        "  Analise = Base_Dados[Coluna].value_counts( normalize=True ) * 100\n",
        "\n",
        "  # Mostrando\n",
        "  print( Coluna, '\\n', Analise, '\\n')"
      ]
    },
    {
      "cell_type": "code",
      "execution_count": null,
      "metadata": {
        "id": "TRUW1QEg09MC"
      },
      "outputs": [],
      "source": [
        "# Ajustando o Andar\n",
        "Base_Dados.loc[ Base_Dados['andar'] == '301' ]\n",
        "Base_Dados.iloc[ 2562, 5 ] = 30\n",
        "\n",
        "# Ajustar o '-'\n",
        "Base_Dados['andar'] = Base_Dados['andar'].apply( lambda Registro : 0 if Registro == '-' else Registro )\n",
        "Base_Dados['andar'] = pd.to_numeric( Base_Dados['andar'] )"
      ]
    },
    {
      "cell_type": "code",
      "execution_count": null,
      "metadata": {
        "colab": {
          "base_uri": "https://localhost:8080/"
        },
        "id": "SgZI8Zm7rPXy",
        "outputId": "11c3ba62-f0fe-412c-bd33-ff2cdeed19ea"
      },
      "outputs": [
        {
          "data": {
            "text/html": [
              "\n",
              "  <div id=\"df-8dab28c6-fac0-431e-a1b9-2e3152554647\">\n",
              "    <div class=\"colab-df-container\">\n",
              "      <div>\n",
              "<style scoped>\n",
              "    .dataframe tbody tr th:only-of-type {\n",
              "        vertical-align: middle;\n",
              "    }\n",
              "\n",
              "    .dataframe tbody tr th {\n",
              "        vertical-align: top;\n",
              "    }\n",
              "\n",
              "    .dataframe thead th {\n",
              "        text-align: right;\n",
              "    }\n",
              "</style>\n",
              "<table border=\"1\" class=\"dataframe\">\n",
              "  <thead>\n",
              "    <tr style=\"text-align: right;\">\n",
              "      <th></th>\n",
              "      <th>cidade</th>\n",
              "      <th>m2</th>\n",
              "      <th>quartos</th>\n",
              "      <th>banheiro</th>\n",
              "      <th>garagem</th>\n",
              "      <th>andar</th>\n",
              "      <th>animais</th>\n",
              "      <th>moveis</th>\n",
              "      <th>condominio</th>\n",
              "      <th>aluguel (R$)</th>\n",
              "      <th>taxas (R$)</th>\n",
              "    </tr>\n",
              "  </thead>\n",
              "  <tbody>\n",
              "    <tr>\n",
              "      <th>0</th>\n",
              "      <td>São Paulo</td>\n",
              "      <td>70</td>\n",
              "      <td>2</td>\n",
              "      <td>1</td>\n",
              "      <td>1</td>\n",
              "      <td>7</td>\n",
              "      <td>aceita</td>\n",
              "      <td>mobiliado</td>\n",
              "      <td>2065</td>\n",
              "      <td>3300</td>\n",
              "      <td>211</td>\n",
              "    </tr>\n",
              "    <tr>\n",
              "      <th>1</th>\n",
              "      <td>São Paulo</td>\n",
              "      <td>320</td>\n",
              "      <td>4</td>\n",
              "      <td>4</td>\n",
              "      <td>0</td>\n",
              "      <td>20</td>\n",
              "      <td>aceita</td>\n",
              "      <td>não mobiliado</td>\n",
              "      <td>1200</td>\n",
              "      <td>4960</td>\n",
              "      <td>1750</td>\n",
              "    </tr>\n",
              "    <tr>\n",
              "      <th>2</th>\n",
              "      <td>Porto Alegre</td>\n",
              "      <td>80</td>\n",
              "      <td>1</td>\n",
              "      <td>1</td>\n",
              "      <td>1</td>\n",
              "      <td>6</td>\n",
              "      <td>aceita</td>\n",
              "      <td>não mobiliado</td>\n",
              "      <td>1000</td>\n",
              "      <td>2800</td>\n",
              "      <td>0</td>\n",
              "    </tr>\n",
              "    <tr>\n",
              "      <th>3</th>\n",
              "      <td>Porto Alegre</td>\n",
              "      <td>51</td>\n",
              "      <td>2</td>\n",
              "      <td>1</td>\n",
              "      <td>0</td>\n",
              "      <td>2</td>\n",
              "      <td>aceita</td>\n",
              "      <td>não mobiliado</td>\n",
              "      <td>270</td>\n",
              "      <td>1112</td>\n",
              "      <td>22</td>\n",
              "    </tr>\n",
              "    <tr>\n",
              "      <th>4</th>\n",
              "      <td>São Paulo</td>\n",
              "      <td>25</td>\n",
              "      <td>1</td>\n",
              "      <td>1</td>\n",
              "      <td>0</td>\n",
              "      <td>1</td>\n",
              "      <td>não aceita</td>\n",
              "      <td>não mobiliado</td>\n",
              "      <td>0</td>\n",
              "      <td>800</td>\n",
              "      <td>25</td>\n",
              "    </tr>\n",
              "  </tbody>\n",
              "</table>\n",
              "</div>\n",
              "      <button class=\"colab-df-convert\" onclick=\"convertToInteractive('df-8dab28c6-fac0-431e-a1b9-2e3152554647')\"\n",
              "              title=\"Convert this dataframe to an interactive table.\"\n",
              "              style=\"display:none;\">\n",
              "        \n",
              "  <svg xmlns=\"http://www.w3.org/2000/svg\" height=\"24px\"viewBox=\"0 0 24 24\"\n",
              "       width=\"24px\">\n",
              "    <path d=\"M0 0h24v24H0V0z\" fill=\"none\"/>\n",
              "    <path d=\"M18.56 5.44l.94 2.06.94-2.06 2.06-.94-2.06-.94-.94-2.06-.94 2.06-2.06.94zm-11 1L8.5 8.5l.94-2.06 2.06-.94-2.06-.94L8.5 2.5l-.94 2.06-2.06.94zm10 10l.94 2.06.94-2.06 2.06-.94-2.06-.94-.94-2.06-.94 2.06-2.06.94z\"/><path d=\"M17.41 7.96l-1.37-1.37c-.4-.4-.92-.59-1.43-.59-.52 0-1.04.2-1.43.59L10.3 9.45l-7.72 7.72c-.78.78-.78 2.05 0 2.83L4 21.41c.39.39.9.59 1.41.59.51 0 1.02-.2 1.41-.59l7.78-7.78 2.81-2.81c.8-.78.8-2.07 0-2.86zM5.41 20L4 18.59l7.72-7.72 1.47 1.35L5.41 20z\"/>\n",
              "  </svg>\n",
              "      </button>\n",
              "      \n",
              "  <style>\n",
              "    .colab-df-container {\n",
              "      display:flex;\n",
              "      flex-wrap:wrap;\n",
              "      gap: 12px;\n",
              "    }\n",
              "\n",
              "    .colab-df-convert {\n",
              "      background-color: #E8F0FE;\n",
              "      border: none;\n",
              "      border-radius: 50%;\n",
              "      cursor: pointer;\n",
              "      display: none;\n",
              "      fill: #1967D2;\n",
              "      height: 32px;\n",
              "      padding: 0 0 0 0;\n",
              "      width: 32px;\n",
              "    }\n",
              "\n",
              "    .colab-df-convert:hover {\n",
              "      background-color: #E2EBFA;\n",
              "      box-shadow: 0px 1px 2px rgba(60, 64, 67, 0.3), 0px 1px 3px 1px rgba(60, 64, 67, 0.15);\n",
              "      fill: #174EA6;\n",
              "    }\n",
              "\n",
              "    [theme=dark] .colab-df-convert {\n",
              "      background-color: #3B4455;\n",
              "      fill: #D2E3FC;\n",
              "    }\n",
              "\n",
              "    [theme=dark] .colab-df-convert:hover {\n",
              "      background-color: #434B5C;\n",
              "      box-shadow: 0px 1px 3px 1px rgba(0, 0, 0, 0.15);\n",
              "      filter: drop-shadow(0px 1px 2px rgba(0, 0, 0, 0.3));\n",
              "      fill: #FFFFFF;\n",
              "    }\n",
              "  </style>\n",
              "\n",
              "      <script>\n",
              "        const buttonEl =\n",
              "          document.querySelector('#df-8dab28c6-fac0-431e-a1b9-2e3152554647 button.colab-df-convert');\n",
              "        buttonEl.style.display =\n",
              "          google.colab.kernel.accessAllowed ? 'block' : 'none';\n",
              "\n",
              "        async function convertToInteractive(key) {\n",
              "          const element = document.querySelector('#df-8dab28c6-fac0-431e-a1b9-2e3152554647');\n",
              "          const dataTable =\n",
              "            await google.colab.kernel.invokeFunction('convertToInteractive',\n",
              "                                                     [key], {});\n",
              "          if (!dataTable) return;\n",
              "\n",
              "          const docLinkHtml = 'Like what you see? Visit the ' +\n",
              "            '<a target=\"_blank\" href=https://colab.research.google.com/notebooks/data_table.ipynb>data table notebook</a>'\n",
              "            + ' to learn more about interactive tables.';\n",
              "          element.innerHTML = '';\n",
              "          dataTable['output_type'] = 'display_data';\n",
              "          await google.colab.output.renderOutput(dataTable, element);\n",
              "          const docLink = document.createElement('div');\n",
              "          docLink.innerHTML = docLinkHtml;\n",
              "          element.appendChild(docLink);\n",
              "        }\n",
              "      </script>\n",
              "    </div>\n",
              "  </div>\n",
              "  "
            ],
            "text/plain": [
              "         cidade   m2  quartos  banheiro  garagem  andar     animais  \\\n",
              "0     São Paulo   70        2         1        1      7      aceita   \n",
              "1     São Paulo  320        4         4        0     20      aceita   \n",
              "2  Porto Alegre   80        1         1        1      6      aceita   \n",
              "3  Porto Alegre   51        2         1        0      2      aceita   \n",
              "4     São Paulo   25        1         1        0      1  não aceita   \n",
              "\n",
              "          moveis  condominio  aluguel (R$)  taxas (R$)  \n",
              "0      mobiliado        2065          3300         211  \n",
              "1  não mobiliado        1200          4960        1750  \n",
              "2  não mobiliado        1000          2800           0  \n",
              "3  não mobiliado         270          1112          22  \n",
              "4  não mobiliado           0           800          25  "
            ]
          },
          "execution_count": 19,
          "metadata": {},
          "output_type": "execute_result"
        }
      ],
      "source": [
        "# Verificar\n",
        "Base_Dados.head()"
      ]
    },
    {
      "cell_type": "code",
      "execution_count": null,
      "metadata": {
        "colab": {
          "base_uri": "https://localhost:8080/"
        },
        "id": "nDbwlH4V5BfV",
        "outputId": "f720d4b5-d1ce-4c66-e4f4-6b9f6513c4a5"
      },
      "outputs": [
        {
          "data": {
            "text/plain": [
              "7"
            ]
          },
          "execution_count": 20,
          "metadata": {},
          "output_type": "execute_result"
        }
      ],
      "source": [
        "len( Colunas_Numericas )"
      ]
    },
    {
      "cell_type": "code",
      "execution_count": null,
      "metadata": {
        "colab": {
          "base_uri": "https://localhost:8080/"
        },
        "id": "keIzjAG43YOf",
        "outputId": "5f040c1b-ed62-4f97-ddda-1b02c970e900"
      },
      "outputs": [
        {
          "data": {
            "image/png": "[encoded data removed]",
            "text/plain": [
              "<Figure size 1440x2160 with 14 Axes>"
            ]
          },
          "metadata": {},
          "output_type": "display_data"
        }
      ],
      "source": [
        "# Grid - Gráficos\n",
        "# Tamanho\n",
        "Figura, Eixo = plt.subplots( figsize=(20, 30) )\n",
        "\n",
        "# Cor de fundo\n",
        "Cor_Fundo = '#f5f5f5'\n",
        "Figura.set_facecolor( Cor_Fundo )\n",
        "\n",
        "# Paleta de Cores\n",
        "Paleta_Cores = sns.color_palette( 'flare', len(Colunas_Numericas) * 2 )\n",
        "\n",
        "# Titulo\n",
        "plt.suptitle('Análise das Variaveis Numericas', fontsize=22, color='#404040', fontweight=600 )\n",
        "\n",
        "# Estrutura\n",
        "Linhas = 7 # (Todas as infos numericas)\n",
        "Colunas = 2 #( Boxplot - Distplot)\n",
        "Posicao = 1 # Posicao inicial do grid\n",
        "\n",
        "# Loop para plotar os gráficos\n",
        "for Coluna in Colunas_Numericas:\n",
        "\n",
        "  # Plot no Grid -- Boxplot\n",
        "  plt.subplot( Linhas, Colunas, Posicao )\n",
        "\n",
        "  # Titulo\n",
        "  plt.title( f'{Coluna}', loc='left', fontsize=14, fontweight=200 )\n",
        "\n",
        "  # Plot\n",
        "  sns.boxplot( data=Base_Dados, y=Coluna, showmeans=True, saturation=0.75, \n",
        "              linewidth=1, color=Paleta_Cores[Posicao], width=0.25 )\n",
        "\n",
        "  # Mudar\n",
        "  Posicao += 1\n",
        "\n",
        "  # Plot no Grid -- Distplot\n",
        "  plt.subplot( Linhas, Colunas, Posicao )\n",
        "\n",
        "  # Titulo\n",
        "  plt.title( f'{Coluna}', loc='left', fontsize=14, fontweight=200 )\n",
        "\n",
        "  # Plot\n",
        "  sns.distplot( Base_Dados[Coluna], color=Paleta_Cores[ Posicao - 1 ] )\n",
        "\n",
        "  # Mudar\n",
        "  Posicao += 1\n",
        "\n",
        "# Ajute de Grid\n",
        "plt.subplots_adjust( top=0.95, hspace=0.3 )"
      ]
    },
    {
      "cell_type": "markdown",
      "metadata": {
        "id": "FSLeUyKdSnZT"
      },
      "source": [
        "# **Analisando outliers**"
      ]
    },
    {
      "cell_type": "code",
      "execution_count": null,
      "metadata": {
        "colab": {
          "base_uri": "https://localhost:8080/"
        },
        "id": "gVjmB4XLB4RQ",
        "outputId": "d58872ca-b0c2-4940-ccd4-3c1eb1c2553d"
      },
      "outputs": [
        {
          "data": {
            "text/plain": [
              "count    10689.000000\n",
              "mean       141.431846\n",
              "std        134.348219\n",
              "min         11.000000\n",
              "25%         56.000000\n",
              "50%         90.000000\n",
              "75%        182.000000\n",
              "max       2000.000000\n",
              "Name: m2, dtype: float64"
            ]
          },
          "execution_count": 22,
          "metadata": {},
          "output_type": "execute_result"
        }
      ],
      "source": [
        "Base_Dados.loc[ Base_Dados['m2'] <= 10000 ]['m2'].describe()"
      ]
    },
    {
      "cell_type": "code",
      "execution_count": null,
      "metadata": {
        "colab": {
          "base_uri": "https://localhost:8080/"
        },
        "id": "JxRWl2R0DCtp",
        "outputId": "fd792984-33b8-4455-c087-fa1c17fae02f"
      },
      "outputs": [
        {
          "data": {
            "text/plain": [
              "1117000"
            ]
          },
          "execution_count": 23,
          "metadata": {},
          "output_type": "execute_result"
        }
      ],
      "source": [
        "Base_Dados['condominio'].max()"
      ]
    },
    {
      "cell_type": "code",
      "execution_count": null,
      "metadata": {
        "colab": {
          "base_uri": "https://localhost:8080/"
        },
        "id": "SMYo1n8WDQAH",
        "outputId": "0f34dea4-4698-44ff-d8e3-f030cfaa7245"
      },
      "outputs": [
        {
          "data": {
            "text/plain": [
              "0"
            ]
          },
          "execution_count": 24,
          "metadata": {},
          "output_type": "execute_result"
        }
      ],
      "source": [
        "Base_Dados['condominio'].min()"
      ]
    },
    {
      "cell_type": "code",
      "execution_count": null,
      "metadata": {
        "colab": {
          "base_uri": "https://localhost:8080/"
        },
        "id": "fvwWpdehDZ9W",
        "outputId": "012a9ac3-fc19-496e-c045-8a00850bb9ec"
      },
      "outputs": [
        {
          "data": {
            "text/plain": [
              "count    10683.000000\n",
              "mean       911.949827\n",
              "std       1104.885520\n",
              "min          0.000000\n",
              "25%        170.000000\n",
              "50%        558.000000\n",
              "75%       1230.000000\n",
              "max      10000.000000\n",
              "Name: condominio, dtype: float64"
            ]
          },
          "execution_count": 25,
          "metadata": {},
          "output_type": "execute_result"
        }
      ],
      "source": [
        "Base_Dados.loc[ Base_Dados['condominio'] <= 10000 ]['condominio'].describe()"
      ]
    },
    {
      "cell_type": "code",
      "execution_count": null,
      "metadata": {
        "colab": {
          "base_uri": "https://localhost:8080/"
        },
        "id": "fL-YMnFJEz9O",
        "outputId": "faaec80c-2e19-43d0-ade0-cdd181e324fe"
      },
      "outputs": [
        {
          "data": {
            "text/plain": [
              "255      1117000\n",
              "6979     1117000\n",
              "6230      220000\n",
              "2859      200000\n",
              "2928       81150\n",
              "1444       32000\n",
              "1213       15000\n",
              "415        14130\n",
              "5293       14000\n",
              "8858       10000\n",
              "974        10000\n",
              "547         9900\n",
              "7020        9500\n",
              "7679        9000\n",
              "1862        8600\n",
              "6185        8500\n",
              "1072        8500\n",
              "10184       8362\n",
              "254         8300\n",
              "722         8133\n",
              "Name: condominio, dtype: int64"
            ]
          },
          "execution_count": 26,
          "metadata": {},
          "output_type": "execute_result"
        }
      ],
      "source": [
        "Base_Dados['condominio'].sort_values( ascending=False ).head(20)"
      ]
    },
    {
      "cell_type": "code",
      "execution_count": null,
      "metadata": {
        "colab": {
          "base_uri": "https://localhost:8080/"
        },
        "id": "B9fL1UkEFTxT",
        "outputId": "237d1470-ad56-411f-8885-5db50657ce39"
      },
      "outputs": [
        {
          "data": {
            "text/plain": [
              "cidade           Porto Alegre\n",
              "m2                         76\n",
              "quartos                     1\n",
              "banheiro                    1\n",
              "garagem                     0\n",
              "andar                       0\n",
              "animais                aceita\n",
              "moveis          não mobiliado\n",
              "condominio                209\n",
              "aluguel (R$)             1249\n",
              "taxas (R$)                 52\n",
              "Name: 225, dtype: object"
            ]
          },
          "execution_count": 27,
          "metadata": {},
          "output_type": "execute_result"
        }
      ],
      "source": [
        "Base_Dados.iloc[ 225 ]"
      ]
    },
    {
      "cell_type": "code",
      "execution_count": null,
      "metadata": {
        "colab": {
          "base_uri": "https://localhost:8080/"
        },
        "id": "bW6fYlWDFnIX",
        "outputId": "5d34d0e7-2d36-4f4b-b690-694d95151703"
      },
      "outputs": [
        {
          "data": {
            "text/plain": [
              "cidade          Belo Horizonte\n",
              "m2                         155\n",
              "quartos                      1\n",
              "banheiro                     4\n",
              "garagem                      0\n",
              "andar                        4\n",
              "animais             não aceita\n",
              "moveis           não mobiliado\n",
              "condominio             1117000\n",
              "aluguel (R$)              2790\n",
              "taxas (R$)                  64\n",
              "Name: 6979, dtype: object"
            ]
          },
          "execution_count": 28,
          "metadata": {},
          "output_type": "execute_result"
        }
      ],
      "source": [
        "Base_Dados.iloc[ 6979 ]"
      ]
    },
    {
      "cell_type": "code",
      "execution_count": null,
      "metadata": {
        "colab": {
          "base_uri": "https://localhost:8080/"
        },
        "id": "y8EPaACrLEKY",
        "outputId": "b45cebe8-7272-42f2-8636-5250774164cf"
      },
      "outputs": [
        {
          "data": {
            "text/plain": [
              "cidade              São Paulo\n",
              "m2                        340\n",
              "quartos                     5\n",
              "banheiro                    4\n",
              "garagem                     2\n",
              "andar                       7\n",
              "animais                aceita\n",
              "moveis          não mobiliado\n",
              "condominio             220000\n",
              "aluguel (R$)            12000\n",
              "taxas (R$)               1000\n",
              "Name: 6230, dtype: object"
            ]
          },
          "execution_count": 29,
          "metadata": {},
          "output_type": "execute_result"
        }
      ],
      "source": [
        "Base_Dados.iloc[ 6230 ]"
      ]
    },
    {
      "cell_type": "code",
      "execution_count": null,
      "metadata": {
        "colab": {
          "base_uri": "https://localhost:8080/"
        },
        "id": "IyUYayXfPZ-e",
        "outputId": "539d5bcb-f5e4-4961-a728-aa4a9f0397e4"
      },
      "outputs": [
        {
          "data": {
            "text/plain": [
              "cidade          Rio de Janeiro\n",
              "m2                          35\n",
              "quartos                      1\n",
              "banheiro                     1\n",
              "garagem                      0\n",
              "andar                        1\n",
              "animais                 aceita\n",
              "moveis               mobiliado\n",
              "condominio               81150\n",
              "aluguel (R$)              4500\n",
              "taxas (R$)                9900\n",
              "Name: 2928, dtype: object"
            ]
          },
          "execution_count": 30,
          "metadata": {},
          "output_type": "execute_result"
        }
      ],
      "source": [
        "Base_Dados.iloc[ 2928 ]"
      ]
    },
    {
      "cell_type": "code",
      "execution_count": null,
      "metadata": {
        "colab": {
          "base_uri": "https://localhost:8080/"
        },
        "id": "CM3MzKDPPse6",
        "outputId": "190d36ce-cbd0-4035-d842-bea61b6366d0"
      },
      "outputs": [
        {
          "data": {
            "text/plain": [
              "count    10692.000000\n",
              "mean      3896.247194\n",
              "std       3408.545518\n",
              "min        450.000000\n",
              "25%       1530.000000\n",
              "50%       2661.000000\n",
              "75%       5000.000000\n",
              "max      45000.000000\n",
              "Name: aluguel (R$), dtype: float64"
            ]
          },
          "execution_count": 31,
          "metadata": {},
          "output_type": "execute_result"
        }
      ],
      "source": [
        "Base_Dados['aluguel (R$)'].describe()"
      ]
    },
    {
      "cell_type": "code",
      "execution_count": null,
      "metadata": {
        "colab": {
          "base_uri": "https://localhost:8080/"
        },
        "id": "vzue7YgWQeh9",
        "outputId": "0f157058-2b7b-4457-8bda-b63b1ca9e7c0"
      },
      "outputs": [
        {
          "data": {
            "text/plain": [
              "count    10691.000000\n",
              "mean      3892.402488\n",
              "std       3385.440586\n",
              "min        450.000000\n",
              "25%       1530.000000\n",
              "50%       2660.000000\n",
              "75%       5000.000000\n",
              "max      30000.000000\n",
              "Name: aluguel (R$), dtype: float64"
            ]
          },
          "execution_count": 32,
          "metadata": {},
          "output_type": "execute_result"
        }
      ],
      "source": [
        "Base_Dados.loc[ Base_Dados['aluguel (R$)'] <= 40000]['aluguel (R$)'].describe()"
      ]
    },
    {
      "cell_type": "code",
      "execution_count": null,
      "metadata": {
        "colab": {
          "base_uri": "https://localhost:8080/"
        },
        "id": "62uacbnARJ4E",
        "outputId": "2684069f-11c6-40dd-d80f-3bb1b95c6a21"
      },
      "outputs": [
        {
          "data": {
            "text/plain": [
              "6645     313700\n",
              "6243      28120\n",
              "1699      21880\n",
              "10172     12500\n",
              "5331      10830\n",
              "2928       9900\n",
              "7674       9500\n",
              "19         9500\n",
              "8187       8750\n",
              "2182       8750\n",
              "5915       7859\n",
              "7679       5917\n",
              "9765       5834\n",
              "421        5700\n",
              "3494       5500\n",
              "7459       5404\n",
              "10410      5200\n",
              "9595       5160\n",
              "8399       5032\n",
              "1862       5000\n",
              "Name: taxas (R$), dtype: int64"
            ]
          },
          "execution_count": 33,
          "metadata": {},
          "output_type": "execute_result"
        }
      ],
      "source": [
        "Base_Dados['taxas (R$)'].sort_values( ascending=False ).head(20)"
      ]
    },
    {
      "cell_type": "code",
      "execution_count": null,
      "metadata": {
        "colab": {
          "base_uri": "https://localhost:8080/"
        },
        "id": "ySVgeZlhRphA",
        "outputId": "e08e4e6d-7d0c-469f-e6b2-58f7823310fc"
      },
      "outputs": [
        {
          "data": {
            "text/plain": [
              "cidade              São Paulo\n",
              "m2                         42\n",
              "quartos                     1\n",
              "banheiro                    2\n",
              "garagem                     1\n",
              "andar                       6\n",
              "animais            não aceita\n",
              "moveis          não mobiliado\n",
              "condominio                690\n",
              "aluguel (R$)             2500\n",
              "taxas (R$)             313700\n",
              "Name: 6645, dtype: object"
            ]
          },
          "execution_count": 34,
          "metadata": {},
          "output_type": "execute_result"
        }
      ],
      "source": [
        "Base_Dados.iloc[ 6645 ]"
      ]
    },
    {
      "cell_type": "code",
      "execution_count": null,
      "metadata": {
        "colab": {
          "base_uri": "https://localhost:8080/"
        },
        "id": "z4NbXWwtDdxO",
        "outputId": "deb102fa-bf80-4155-82e7-1c1907878b42"
      },
      "outputs": [
        {
          "data": {
            "text/html": [
              "\n",
              "  <div id=\"df-f77835e1-894b-40b4-942f-89b235ca96dc\">\n",
              "    <div class=\"colab-df-container\">\n",
              "      <div>\n",
              "<style scoped>\n",
              "    .dataframe tbody tr th:only-of-type {\n",
              "        vertical-align: middle;\n",
              "    }\n",
              "\n",
              "    .dataframe tbody tr th {\n",
              "        vertical-align: top;\n",
              "    }\n",
              "\n",
              "    .dataframe thead th {\n",
              "        text-align: right;\n",
              "    }\n",
              "</style>\n",
              "<table border=\"1\" class=\"dataframe\">\n",
              "  <thead>\n",
              "    <tr style=\"text-align: right;\">\n",
              "      <th></th>\n",
              "      <th>cidade</th>\n",
              "      <th>m2</th>\n",
              "      <th>quartos</th>\n",
              "      <th>banheiro</th>\n",
              "      <th>garagem</th>\n",
              "      <th>andar</th>\n",
              "      <th>animais</th>\n",
              "      <th>moveis</th>\n",
              "      <th>condominio</th>\n",
              "      <th>aluguel (R$)</th>\n",
              "      <th>taxas (R$)</th>\n",
              "    </tr>\n",
              "  </thead>\n",
              "  <tbody>\n",
              "    <tr>\n",
              "      <th>10687</th>\n",
              "      <td>Porto Alegre</td>\n",
              "      <td>63</td>\n",
              "      <td>2</td>\n",
              "      <td>1</td>\n",
              "      <td>1</td>\n",
              "      <td>5</td>\n",
              "      <td>não aceita</td>\n",
              "      <td>mobiliado</td>\n",
              "      <td>402</td>\n",
              "      <td>1478</td>\n",
              "      <td>24</td>\n",
              "    </tr>\n",
              "    <tr>\n",
              "      <th>10688</th>\n",
              "      <td>São Paulo</td>\n",
              "      <td>285</td>\n",
              "      <td>4</td>\n",
              "      <td>4</td>\n",
              "      <td>4</td>\n",
              "      <td>17</td>\n",
              "      <td>aceita</td>\n",
              "      <td>não mobiliado</td>\n",
              "      <td>3100</td>\n",
              "      <td>15000</td>\n",
              "      <td>973</td>\n",
              "    </tr>\n",
              "    <tr>\n",
              "      <th>10689</th>\n",
              "      <td>Rio de Janeiro</td>\n",
              "      <td>70</td>\n",
              "      <td>3</td>\n",
              "      <td>3</td>\n",
              "      <td>0</td>\n",
              "      <td>8</td>\n",
              "      <td>não aceita</td>\n",
              "      <td>mobiliado</td>\n",
              "      <td>980</td>\n",
              "      <td>6000</td>\n",
              "      <td>332</td>\n",
              "    </tr>\n",
              "    <tr>\n",
              "      <th>10690</th>\n",
              "      <td>Rio de Janeiro</td>\n",
              "      <td>120</td>\n",
              "      <td>2</td>\n",
              "      <td>2</td>\n",
              "      <td>2</td>\n",
              "      <td>8</td>\n",
              "      <td>aceita</td>\n",
              "      <td>mobiliado</td>\n",
              "      <td>1585</td>\n",
              "      <td>12000</td>\n",
              "      <td>279</td>\n",
              "    </tr>\n",
              "    <tr>\n",
              "      <th>10691</th>\n",
              "      <td>São Paulo</td>\n",
              "      <td>80</td>\n",
              "      <td>2</td>\n",
              "      <td>1</td>\n",
              "      <td>0</td>\n",
              "      <td>0</td>\n",
              "      <td>aceita</td>\n",
              "      <td>não mobiliado</td>\n",
              "      <td>0</td>\n",
              "      <td>1400</td>\n",
              "      <td>165</td>\n",
              "    </tr>\n",
              "  </tbody>\n",
              "</table>\n",
              "</div>\n",
              "      <button class=\"colab-df-convert\" onclick=\"convertToInteractive('df-f77835e1-894b-40b4-942f-89b235ca96dc')\"\n",
              "              title=\"Convert this dataframe to an interactive table.\"\n",
              "              style=\"display:none;\">\n",
              "        \n",
              "  <svg xmlns=\"http://www.w3.org/2000/svg\" height=\"24px\"viewBox=\"0 0 24 24\"\n",
              "       width=\"24px\">\n",
              "    <path d=\"M0 0h24v24H0V0z\" fill=\"none\"/>\n",
              "    <path d=\"M18.56 5.44l.94 2.06.94-2.06 2.06-.94-2.06-.94-.94-2.06-.94 2.06-2.06.94zm-11 1L8.5 8.5l.94-2.06 2.06-.94-2.06-.94L8.5 2.5l-.94 2.06-2.06.94zm10 10l.94 2.06.94-2.06 2.06-.94-2.06-.94-.94-2.06-.94 2.06-2.06.94z\"/><path d=\"M17.41 7.96l-1.37-1.37c-.4-.4-.92-.59-1.43-.59-.52 0-1.04.2-1.43.59L10.3 9.45l-7.72 7.72c-.78.78-.78 2.05 0 2.83L4 21.41c.39.39.9.59 1.41.59.51 0 1.02-.2 1.41-.59l7.78-7.78 2.81-2.81c.8-.78.8-2.07 0-2.86zM5.41 20L4 18.59l7.72-7.72 1.47 1.35L5.41 20z\"/>\n",
              "  </svg>\n",
              "      </button>\n",
              "      \n",
              "  <style>\n",
              "    .colab-df-container {\n",
              "      display:flex;\n",
              "      flex-wrap:wrap;\n",
              "      gap: 12px;\n",
              "    }\n",
              "\n",
              "    .colab-df-convert {\n",
              "      background-color: #E8F0FE;\n",
              "      border: none;\n",
              "      border-radius: 50%;\n",
              "      cursor: pointer;\n",
              "      display: none;\n",
              "      fill: #1967D2;\n",
              "      height: 32px;\n",
              "      padding: 0 0 0 0;\n",
              "      width: 32px;\n",
              "    }\n",
              "\n",
              "    .colab-df-convert:hover {\n",
              "      background-color: #E2EBFA;\n",
              "      box-shadow: 0px 1px 2px rgba(60, 64, 67, 0.3), 0px 1px 3px 1px rgba(60, 64, 67, 0.15);\n",
              "      fill: #174EA6;\n",
              "    }\n",
              "\n",
              "    [theme=dark] .colab-df-convert {\n",
              "      background-color: #3B4455;\n",
              "      fill: #D2E3FC;\n",
              "    }\n",
              "\n",
              "    [theme=dark] .colab-df-convert:hover {\n",
              "      background-color: #434B5C;\n",
              "      box-shadow: 0px 1px 3px 1px rgba(0, 0, 0, 0.15);\n",
              "      filter: drop-shadow(0px 1px 2px rgba(0, 0, 0, 0.3));\n",
              "      fill: #FFFFFF;\n",
              "    }\n",
              "  </style>\n",
              "\n",
              "      <script>\n",
              "        const buttonEl =\n",
              "          document.querySelector('#df-f77835e1-894b-40b4-942f-89b235ca96dc button.colab-df-convert');\n",
              "        buttonEl.style.display =\n",
              "          google.colab.kernel.accessAllowed ? 'block' : 'none';\n",
              "\n",
              "        async function convertToInteractive(key) {\n",
              "          const element = document.querySelector('#df-f77835e1-894b-40b4-942f-89b235ca96dc');\n",
              "          const dataTable =\n",
              "            await google.colab.kernel.invokeFunction('convertToInteractive',\n",
              "                                                     [key], {});\n",
              "          if (!dataTable) return;\n",
              "\n",
              "          const docLinkHtml = 'Like what you see? Visit the ' +\n",
              "            '<a target=\"_blank\" href=https://colab.research.google.com/notebooks/data_table.ipynb>data table notebook</a>'\n",
              "            + ' to learn more about interactive tables.';\n",
              "          element.innerHTML = '';\n",
              "          dataTable['output_type'] = 'display_data';\n",
              "          await google.colab.output.renderOutput(dataTable, element);\n",
              "          const docLink = document.createElement('div');\n",
              "          docLink.innerHTML = docLinkHtml;\n",
              "          element.appendChild(docLink);\n",
              "        }\n",
              "      </script>\n",
              "    </div>\n",
              "  </div>\n",
              "  "
            ],
            "text/plain": [
              "               cidade   m2  quartos  banheiro  garagem  andar     animais  \\\n",
              "10687    Porto Alegre   63        2         1        1      5  não aceita   \n",
              "10688       São Paulo  285        4         4        4     17      aceita   \n",
              "10689  Rio de Janeiro   70        3         3        0      8  não aceita   \n",
              "10690  Rio de Janeiro  120        2         2        2      8      aceita   \n",
              "10691       São Paulo   80        2         1        0      0      aceita   \n",
              "\n",
              "              moveis  condominio  aluguel (R$)  taxas (R$)  \n",
              "10687      mobiliado         402          1478          24  \n",
              "10688  não mobiliado        3100         15000         973  \n",
              "10689      mobiliado         980          6000         332  \n",
              "10690      mobiliado        1585         12000         279  \n",
              "10691  não mobiliado           0          1400         165  "
            ]
          },
          "execution_count": 35,
          "metadata": {},
          "output_type": "execute_result"
        }
      ],
      "source": [
        "Base_Dados.tail()"
      ]
    },
    {
      "cell_type": "markdown",
      "metadata": {
        "id": "8P2M5eRLAL2s"
      },
      "source": [
        "# **Eng de Features**\n",
        "### Analise das variáveis que vamos levar para o modelo\n"
      ]
    },
    {
      "cell_type": "code",
      "execution_count": null,
      "metadata": {
        "colab": {
          "base_uri": "https://localhost:8080/",
          "height": 206
        },
        "id": "CoMSqQmE_qzB",
        "outputId": "ea18e285-1ac9-4abf-bc7c-374237662250"
      },
      "outputs": [
        {
          "data": {
            "text/html": [
              "\n",
              "  <div id=\"df-85d44c47-28fd-44f3-a5d1-8a8c0ac395d4\">\n",
              "    <div class=\"colab-df-container\">\n",
              "      <div>\n",
              "<style scoped>\n",
              "    .dataframe tbody tr th:only-of-type {\n",
              "        vertical-align: middle;\n",
              "    }\n",
              "\n",
              "    .dataframe tbody tr th {\n",
              "        vertical-align: top;\n",
              "    }\n",
              "\n",
              "    .dataframe thead th {\n",
              "        text-align: right;\n",
              "    }\n",
              "</style>\n",
              "<table border=\"1\" class=\"dataframe\">\n",
              "  <thead>\n",
              "    <tr style=\"text-align: right;\">\n",
              "      <th></th>\n",
              "      <th>cidade</th>\n",
              "      <th>m2</th>\n",
              "      <th>quartos</th>\n",
              "      <th>banheiro</th>\n",
              "      <th>garagem</th>\n",
              "      <th>andar</th>\n",
              "      <th>animais</th>\n",
              "      <th>moveis</th>\n",
              "      <th>condominio</th>\n",
              "      <th>aluguel (R$)</th>\n",
              "      <th>taxas (R$)</th>\n",
              "    </tr>\n",
              "  </thead>\n",
              "  <tbody>\n",
              "    <tr>\n",
              "      <th>0</th>\n",
              "      <td>São Paulo</td>\n",
              "      <td>70</td>\n",
              "      <td>2</td>\n",
              "      <td>1</td>\n",
              "      <td>1</td>\n",
              "      <td>7</td>\n",
              "      <td>1</td>\n",
              "      <td>1</td>\n",
              "      <td>2065</td>\n",
              "      <td>3300</td>\n",
              "      <td>211</td>\n",
              "    </tr>\n",
              "    <tr>\n",
              "      <th>1</th>\n",
              "      <td>São Paulo</td>\n",
              "      <td>320</td>\n",
              "      <td>4</td>\n",
              "      <td>4</td>\n",
              "      <td>0</td>\n",
              "      <td>20</td>\n",
              "      <td>1</td>\n",
              "      <td>0</td>\n",
              "      <td>1200</td>\n",
              "      <td>4960</td>\n",
              "      <td>1750</td>\n",
              "    </tr>\n",
              "    <tr>\n",
              "      <th>4</th>\n",
              "      <td>São Paulo</td>\n",
              "      <td>25</td>\n",
              "      <td>1</td>\n",
              "      <td>1</td>\n",
              "      <td>0</td>\n",
              "      <td>1</td>\n",
              "      <td>0</td>\n",
              "      <td>0</td>\n",
              "      <td>0</td>\n",
              "      <td>800</td>\n",
              "      <td>25</td>\n",
              "    </tr>\n",
              "    <tr>\n",
              "      <th>5</th>\n",
              "      <td>São Paulo</td>\n",
              "      <td>376</td>\n",
              "      <td>3</td>\n",
              "      <td>3</td>\n",
              "      <td>7</td>\n",
              "      <td>0</td>\n",
              "      <td>1</td>\n",
              "      <td>0</td>\n",
              "      <td>0</td>\n",
              "      <td>8000</td>\n",
              "      <td>834</td>\n",
              "    </tr>\n",
              "    <tr>\n",
              "      <th>7</th>\n",
              "      <td>São Paulo</td>\n",
              "      <td>213</td>\n",
              "      <td>4</td>\n",
              "      <td>4</td>\n",
              "      <td>4</td>\n",
              "      <td>4</td>\n",
              "      <td>1</td>\n",
              "      <td>0</td>\n",
              "      <td>2254</td>\n",
              "      <td>3223</td>\n",
              "      <td>1735</td>\n",
              "    </tr>\n",
              "  </tbody>\n",
              "</table>\n",
              "</div>\n",
              "      <button class=\"colab-df-convert\" onclick=\"convertToInteractive('df-85d44c47-28fd-44f3-a5d1-8a8c0ac395d4')\"\n",
              "              title=\"Convert this dataframe to an interactive table.\"\n",
              "              style=\"display:none;\">\n",
              "        \n",
              "  <svg xmlns=\"http://www.w3.org/2000/svg\" height=\"24px\"viewBox=\"0 0 24 24\"\n",
              "       width=\"24px\">\n",
              "    <path d=\"M0 0h24v24H0V0z\" fill=\"none\"/>\n",
              "    <path d=\"M18.56 5.44l.94 2.06.94-2.06 2.06-.94-2.06-.94-.94-2.06-.94 2.06-2.06.94zm-11 1L8.5 8.5l.94-2.06 2.06-.94-2.06-.94L8.5 2.5l-.94 2.06-2.06.94zm10 10l.94 2.06.94-2.06 2.06-.94-2.06-.94-.94-2.06-.94 2.06-2.06.94z\"/><path d=\"M17.41 7.96l-1.37-1.37c-.4-.4-.92-.59-1.43-.59-.52 0-1.04.2-1.43.59L10.3 9.45l-7.72 7.72c-.78.78-.78 2.05 0 2.83L4 21.41c.39.39.9.59 1.41.59.51 0 1.02-.2 1.41-.59l7.78-7.78 2.81-2.81c.8-.78.8-2.07 0-2.86zM5.41 20L4 18.59l7.72-7.72 1.47 1.35L5.41 20z\"/>\n",
              "  </svg>\n",
              "      </button>\n",
              "      \n",
              "  <style>\n",
              "    .colab-df-container {\n",
              "      display:flex;\n",
              "      flex-wrap:wrap;\n",
              "      gap: 12px;\n",
              "    }\n",
              "\n",
              "    .colab-df-convert {\n",
              "      background-color: #E8F0FE;\n",
              "      border: none;\n",
              "      border-radius: 50%;\n",
              "      cursor: pointer;\n",
              "      display: none;\n",
              "      fill: #1967D2;\n",
              "      height: 32px;\n",
              "      padding: 0 0 0 0;\n",
              "      width: 32px;\n",
              "    }\n",
              "\n",
              "    .colab-df-convert:hover {\n",
              "      background-color: #E2EBFA;\n",
              "      box-shadow: 0px 1px 2px rgba(60, 64, 67, 0.3), 0px 1px 3px 1px rgba(60, 64, 67, 0.15);\n",
              "      fill: #174EA6;\n",
              "    }\n",
              "\n",
              "    [theme=dark] .colab-df-convert {\n",
              "      background-color: #3B4455;\n",
              "      fill: #D2E3FC;\n",
              "    }\n",
              "\n",
              "    [theme=dark] .colab-df-convert:hover {\n",
              "      background-color: #434B5C;\n",
              "      box-shadow: 0px 1px 3px 1px rgba(0, 0, 0, 0.15);\n",
              "      filter: drop-shadow(0px 1px 2px rgba(0, 0, 0, 0.3));\n",
              "      fill: #FFFFFF;\n",
              "    }\n",
              "  </style>\n",
              "\n",
              "      <script>\n",
              "        const buttonEl =\n",
              "          document.querySelector('#df-85d44c47-28fd-44f3-a5d1-8a8c0ac395d4 button.colab-df-convert');\n",
              "        buttonEl.style.display =\n",
              "          google.colab.kernel.accessAllowed ? 'block' : 'none';\n",
              "\n",
              "        async function convertToInteractive(key) {\n",
              "          const element = document.querySelector('#df-85d44c47-28fd-44f3-a5d1-8a8c0ac395d4');\n",
              "          const dataTable =\n",
              "            await google.colab.kernel.invokeFunction('convertToInteractive',\n",
              "                                                     [key], {});\n",
              "          if (!dataTable) return;\n",
              "\n",
              "          const docLinkHtml = 'Like what you see? Visit the ' +\n",
              "            '<a target=\"_blank\" href=https://colab.research.google.com/notebooks/data_table.ipynb>data table notebook</a>'\n",
              "            + ' to learn more about interactive tables.';\n",
              "          element.innerHTML = '';\n",
              "          dataTable['output_type'] = 'display_data';\n",
              "          await google.colab.output.renderOutput(dataTable, element);\n",
              "          const docLink = document.createElement('div');\n",
              "          docLink.innerHTML = docLinkHtml;\n",
              "          element.appendChild(docLink);\n",
              "        }\n",
              "      </script>\n",
              "    </div>\n",
              "  </div>\n",
              "  "
            ],
            "text/plain": [
              "      cidade   m2  quartos  banheiro  garagem  andar  animais  moveis  \\\n",
              "0  São Paulo   70        2         1        1      7        1       1   \n",
              "1  São Paulo  320        4         4        0     20        1       0   \n",
              "4  São Paulo   25        1         1        0      1        0       0   \n",
              "5  São Paulo  376        3         3        7      0        1       0   \n",
              "7  São Paulo  213        4         4        4      4        1       0   \n",
              "\n",
              "   condominio  aluguel (R$)  taxas (R$)  \n",
              "0        2065          3300         211  \n",
              "1        1200          4960        1750  \n",
              "4           0           800          25  \n",
              "5           0          8000         834  \n",
              "7        2254          3223        1735  "
            ]
          },
          "execution_count": 36,
          "metadata": {},
          "output_type": "execute_result"
        }
      ],
      "source": [
        "# Ajuste das colunas categoricas\n",
        "Base_Dados['animais'] = Base_Dados['animais'].map( {'aceita':1, 'não aceita':0} )\n",
        "Base_Dados['moveis'] = Base_Dados['moveis'].map( {'mobiliado':1, 'não mobiliado':0} )\n",
        "\n",
        "# Filtrar a Cidade de São Paulo\n",
        "Filtro_SP = Base_Dados.loc[ Base_Dados['cidade'] == 'São Paulo']\n",
        "\n",
        "# Verificar\n",
        "Filtro_SP.head()"
      ]
    },
    {
      "cell_type": "code",
      "execution_count": null,
      "metadata": {
        "id": "kdFyuVx2CNVS"
      },
      "outputs": [],
      "source": [
        "# Retirando a Coluna Cidade\n",
        "Filtro_SP.drop( columns=['cidade'], inplace=True )"
      ]
    },
    {
      "cell_type": "code",
      "execution_count": null,
      "metadata": {
        "colab": {
          "base_uri": "https://localhost:8080/",
          "height": 206
        },
        "id": "bZNDCI3PVSvM",
        "outputId": "569c5cf1-8470-4cb6-b582-b7c4057d9760"
      },
      "outputs": [
        {
          "data": {
            "text/html": [
              "\n",
              "  <div id=\"df-c0f77c01-442b-4b10-b0b3-0882b708703a\">\n",
              "    <div class=\"colab-df-container\">\n",
              "      <div>\n",
              "<style scoped>\n",
              "    .dataframe tbody tr th:only-of-type {\n",
              "        vertical-align: middle;\n",
              "    }\n",
              "\n",
              "    .dataframe tbody tr th {\n",
              "        vertical-align: top;\n",
              "    }\n",
              "\n",
              "    .dataframe thead th {\n",
              "        text-align: right;\n",
              "    }\n",
              "</style>\n",
              "<table border=\"1\" class=\"dataframe\">\n",
              "  <thead>\n",
              "    <tr style=\"text-align: right;\">\n",
              "      <th></th>\n",
              "      <th>m2</th>\n",
              "      <th>quartos</th>\n",
              "      <th>banheiro</th>\n",
              "      <th>garagem</th>\n",
              "      <th>andar</th>\n",
              "      <th>animais</th>\n",
              "      <th>moveis</th>\n",
              "      <th>condominio</th>\n",
              "      <th>aluguel (R$)</th>\n",
              "      <th>taxas (R$)</th>\n",
              "    </tr>\n",
              "  </thead>\n",
              "  <tbody>\n",
              "    <tr>\n",
              "      <th>0</th>\n",
              "      <td>70</td>\n",
              "      <td>2</td>\n",
              "      <td>1</td>\n",
              "      <td>1</td>\n",
              "      <td>7</td>\n",
              "      <td>1</td>\n",
              "      <td>1</td>\n",
              "      <td>2065</td>\n",
              "      <td>3300</td>\n",
              "      <td>211</td>\n",
              "    </tr>\n",
              "    <tr>\n",
              "      <th>1</th>\n",
              "      <td>320</td>\n",
              "      <td>4</td>\n",
              "      <td>4</td>\n",
              "      <td>0</td>\n",
              "      <td>20</td>\n",
              "      <td>1</td>\n",
              "      <td>0</td>\n",
              "      <td>1200</td>\n",
              "      <td>4960</td>\n",
              "      <td>1750</td>\n",
              "    </tr>\n",
              "    <tr>\n",
              "      <th>4</th>\n",
              "      <td>25</td>\n",
              "      <td>1</td>\n",
              "      <td>1</td>\n",
              "      <td>0</td>\n",
              "      <td>1</td>\n",
              "      <td>0</td>\n",
              "      <td>0</td>\n",
              "      <td>0</td>\n",
              "      <td>800</td>\n",
              "      <td>25</td>\n",
              "    </tr>\n",
              "    <tr>\n",
              "      <th>5</th>\n",
              "      <td>376</td>\n",
              "      <td>3</td>\n",
              "      <td>3</td>\n",
              "      <td>7</td>\n",
              "      <td>0</td>\n",
              "      <td>1</td>\n",
              "      <td>0</td>\n",
              "      <td>0</td>\n",
              "      <td>8000</td>\n",
              "      <td>834</td>\n",
              "    </tr>\n",
              "    <tr>\n",
              "      <th>7</th>\n",
              "      <td>213</td>\n",
              "      <td>4</td>\n",
              "      <td>4</td>\n",
              "      <td>4</td>\n",
              "      <td>4</td>\n",
              "      <td>1</td>\n",
              "      <td>0</td>\n",
              "      <td>2254</td>\n",
              "      <td>3223</td>\n",
              "      <td>1735</td>\n",
              "    </tr>\n",
              "  </tbody>\n",
              "</table>\n",
              "</div>\n",
              "      <button class=\"colab-df-convert\" onclick=\"convertToInteractive('df-c0f77c01-442b-4b10-b0b3-0882b708703a')\"\n",
              "              title=\"Convert this dataframe to an interactive table.\"\n",
              "              style=\"display:none;\">\n",
              "        \n",
              "  <svg xmlns=\"http://www.w3.org/2000/svg\" height=\"24px\"viewBox=\"0 0 24 24\"\n",
              "       width=\"24px\">\n",
              "    <path d=\"M0 0h24v24H0V0z\" fill=\"none\"/>\n",
              "    <path d=\"M18.56 5.44l.94 2.06.94-2.06 2.06-.94-2.06-.94-.94-2.06-.94 2.06-2.06.94zm-11 1L8.5 8.5l.94-2.06 2.06-.94-2.06-.94L8.5 2.5l-.94 2.06-2.06.94zm10 10l.94 2.06.94-2.06 2.06-.94-2.06-.94-.94-2.06-.94 2.06-2.06.94z\"/><path d=\"M17.41 7.96l-1.37-1.37c-.4-.4-.92-.59-1.43-.59-.52 0-1.04.2-1.43.59L10.3 9.45l-7.72 7.72c-.78.78-.78 2.05 0 2.83L4 21.41c.39.39.9.59 1.41.59.51 0 1.02-.2 1.41-.59l7.78-7.78 2.81-2.81c.8-.78.8-2.07 0-2.86zM5.41 20L4 18.59l7.72-7.72 1.47 1.35L5.41 20z\"/>\n",
              "  </svg>\n",
              "      </button>\n",
              "      \n",
              "  <style>\n",
              "    .colab-df-container {\n",
              "      display:flex;\n",
              "      flex-wrap:wrap;\n",
              "      gap: 12px;\n",
              "    }\n",
              "\n",
              "    .colab-df-convert {\n",
              "      background-color: #E8F0FE;\n",
              "      border: none;\n",
              "      border-radius: 50%;\n",
              "      cursor: pointer;\n",
              "      display: none;\n",
              "      fill: #1967D2;\n",
              "      height: 32px;\n",
              "      padding: 0 0 0 0;\n",
              "      width: 32px;\n",
              "    }\n",
              "\n",
              "    .colab-df-convert:hover {\n",
              "      background-color: #E2EBFA;\n",
              "      box-shadow: 0px 1px 2px rgba(60, 64, 67, 0.3), 0px 1px 3px 1px rgba(60, 64, 67, 0.15);\n",
              "      fill: #174EA6;\n",
              "    }\n",
              "\n",
              "    [theme=dark] .colab-df-convert {\n",
              "      background-color: #3B4455;\n",
              "      fill: #D2E3FC;\n",
              "    }\n",
              "\n",
              "    [theme=dark] .colab-df-convert:hover {\n",
              "      background-color: #434B5C;\n",
              "      box-shadow: 0px 1px 3px 1px rgba(0, 0, 0, 0.15);\n",
              "      filter: drop-shadow(0px 1px 2px rgba(0, 0, 0, 0.3));\n",
              "      fill: #FFFFFF;\n",
              "    }\n",
              "  </style>\n",
              "\n",
              "      <script>\n",
              "        const buttonEl =\n",
              "          document.querySelector('#df-c0f77c01-442b-4b10-b0b3-0882b708703a button.colab-df-convert');\n",
              "        buttonEl.style.display =\n",
              "          google.colab.kernel.accessAllowed ? 'block' : 'none';\n",
              "\n",
              "        async function convertToInteractive(key) {\n",
              "          const element = document.querySelector('#df-c0f77c01-442b-4b10-b0b3-0882b708703a');\n",
              "          const dataTable =\n",
              "            await google.colab.kernel.invokeFunction('convertToInteractive',\n",
              "                                                     [key], {});\n",
              "          if (!dataTable) return;\n",
              "\n",
              "          const docLinkHtml = 'Like what you see? Visit the ' +\n",
              "            '<a target=\"_blank\" href=https://colab.research.google.com/notebooks/data_table.ipynb>data table notebook</a>'\n",
              "            + ' to learn more about interactive tables.';\n",
              "          element.innerHTML = '';\n",
              "          dataTable['output_type'] = 'display_data';\n",
              "          await google.colab.output.renderOutput(dataTable, element);\n",
              "          const docLink = document.createElement('div');\n",
              "          docLink.innerHTML = docLinkHtml;\n",
              "          element.appendChild(docLink);\n",
              "        }\n",
              "      </script>\n",
              "    </div>\n",
              "  </div>\n",
              "  "
            ],
            "text/plain": [
              "    m2  quartos  banheiro  garagem  andar  animais  moveis  condominio  \\\n",
              "0   70        2         1        1      7        1       1        2065   \n",
              "1  320        4         4        0     20        1       0        1200   \n",
              "4   25        1         1        0      1        0       0           0   \n",
              "5  376        3         3        7      0        1       0           0   \n",
              "7  213        4         4        4      4        1       0        2254   \n",
              "\n",
              "   aluguel (R$)  taxas (R$)  \n",
              "0          3300         211  \n",
              "1          4960        1750  \n",
              "4           800          25  \n",
              "5          8000         834  \n",
              "7          3223        1735  "
            ]
          },
          "execution_count": 38,
          "metadata": {},
          "output_type": "execute_result"
        }
      ],
      "source": [
        "Filtro_SP.head()"
      ]
    },
    {
      "cell_type": "code",
      "execution_count": null,
      "metadata": {
        "colab": {
          "base_uri": "https://localhost:8080/"
        },
        "id": "QlAyQGGnCfUa",
        "outputId": "47a0385b-cd91-4b6c-dd8f-b2a8b0ff40c2"
      },
      "outputs": [
        {
          "data": {
            "text/plain": [
              "((5887, 9), (5887,))"
            ]
          },
          "execution_count": 39,
          "metadata": {},
          "output_type": "execute_result"
        }
      ],
      "source": [
        "# Separa os dados\n",
        "Caracteristicas = Filtro_SP.drop( columns=['aluguel (R$)'] )\n",
        "Previsor = Filtro_SP['aluguel (R$)']\n",
        "\n",
        "# VErificar\n",
        "Caracteristicas.shape, Previsor.shape"
      ]
    },
    {
      "cell_type": "code",
      "execution_count": null,
      "metadata": {
        "colab": {
          "base_uri": "https://localhost:8080/",
          "height": 206
        },
        "id": "1OW3l1RYDAqm",
        "outputId": "a02e1bb0-49ee-4d5e-d9cf-b2bd2d0cd896"
      },
      "outputs": [
        {
          "data": {
            "text/html": [
              "\n",
              "  <div id=\"df-b6a8157a-9e60-4142-8e98-7b081a61f181\">\n",
              "    <div class=\"colab-df-container\">\n",
              "      <div>\n",
              "<style scoped>\n",
              "    .dataframe tbody tr th:only-of-type {\n",
              "        vertical-align: middle;\n",
              "    }\n",
              "\n",
              "    .dataframe tbody tr th {\n",
              "        vertical-align: top;\n",
              "    }\n",
              "\n",
              "    .dataframe thead th {\n",
              "        text-align: right;\n",
              "    }\n",
              "</style>\n",
              "<table border=\"1\" class=\"dataframe\">\n",
              "  <thead>\n",
              "    <tr style=\"text-align: right;\">\n",
              "      <th></th>\n",
              "      <th>m2</th>\n",
              "      <th>quartos</th>\n",
              "      <th>banheiro</th>\n",
              "      <th>garagem</th>\n",
              "      <th>andar</th>\n",
              "      <th>animais</th>\n",
              "      <th>moveis</th>\n",
              "      <th>condominio</th>\n",
              "      <th>taxas (R$)</th>\n",
              "    </tr>\n",
              "  </thead>\n",
              "  <tbody>\n",
              "    <tr>\n",
              "      <th>0</th>\n",
              "      <td>70</td>\n",
              "      <td>2</td>\n",
              "      <td>1</td>\n",
              "      <td>1</td>\n",
              "      <td>7</td>\n",
              "      <td>1</td>\n",
              "      <td>1</td>\n",
              "      <td>2065</td>\n",
              "      <td>211</td>\n",
              "    </tr>\n",
              "    <tr>\n",
              "      <th>1</th>\n",
              "      <td>320</td>\n",
              "      <td>4</td>\n",
              "      <td>4</td>\n",
              "      <td>0</td>\n",
              "      <td>20</td>\n",
              "      <td>1</td>\n",
              "      <td>0</td>\n",
              "      <td>1200</td>\n",
              "      <td>1750</td>\n",
              "    </tr>\n",
              "    <tr>\n",
              "      <th>4</th>\n",
              "      <td>25</td>\n",
              "      <td>1</td>\n",
              "      <td>1</td>\n",
              "      <td>0</td>\n",
              "      <td>1</td>\n",
              "      <td>0</td>\n",
              "      <td>0</td>\n",
              "      <td>0</td>\n",
              "      <td>25</td>\n",
              "    </tr>\n",
              "    <tr>\n",
              "      <th>5</th>\n",
              "      <td>376</td>\n",
              "      <td>3</td>\n",
              "      <td>3</td>\n",
              "      <td>7</td>\n",
              "      <td>0</td>\n",
              "      <td>1</td>\n",
              "      <td>0</td>\n",
              "      <td>0</td>\n",
              "      <td>834</td>\n",
              "    </tr>\n",
              "    <tr>\n",
              "      <th>7</th>\n",
              "      <td>213</td>\n",
              "      <td>4</td>\n",
              "      <td>4</td>\n",
              "      <td>4</td>\n",
              "      <td>4</td>\n",
              "      <td>1</td>\n",
              "      <td>0</td>\n",
              "      <td>2254</td>\n",
              "      <td>1735</td>\n",
              "    </tr>\n",
              "  </tbody>\n",
              "</table>\n",
              "</div>\n",
              "      <button class=\"colab-df-convert\" onclick=\"convertToInteractive('df-b6a8157a-9e60-4142-8e98-7b081a61f181')\"\n",
              "              title=\"Convert this dataframe to an interactive table.\"\n",
              "              style=\"display:none;\">\n",
              "        \n",
              "  <svg xmlns=\"http://www.w3.org/2000/svg\" height=\"24px\"viewBox=\"0 0 24 24\"\n",
              "       width=\"24px\">\n",
              "    <path d=\"M0 0h24v24H0V0z\" fill=\"none\"/>\n",
              "    <path d=\"M18.56 5.44l.94 2.06.94-2.06 2.06-.94-2.06-.94-.94-2.06-.94 2.06-2.06.94zm-11 1L8.5 8.5l.94-2.06 2.06-.94-2.06-.94L8.5 2.5l-.94 2.06-2.06.94zm10 10l.94 2.06.94-2.06 2.06-.94-2.06-.94-.94-2.06-.94 2.06-2.06.94z\"/><path d=\"M17.41 7.96l-1.37-1.37c-.4-.4-.92-.59-1.43-.59-.52 0-1.04.2-1.43.59L10.3 9.45l-7.72 7.72c-.78.78-.78 2.05 0 2.83L4 21.41c.39.39.9.59 1.41.59.51 0 1.02-.2 1.41-.59l7.78-7.78 2.81-2.81c.8-.78.8-2.07 0-2.86zM5.41 20L4 18.59l7.72-7.72 1.47 1.35L5.41 20z\"/>\n",
              "  </svg>\n",
              "      </button>\n",
              "      \n",
              "  <style>\n",
              "    .colab-df-container {\n",
              "      display:flex;\n",
              "      flex-wrap:wrap;\n",
              "      gap: 12px;\n",
              "    }\n",
              "\n",
              "    .colab-df-convert {\n",
              "      background-color: #E8F0FE;\n",
              "      border: none;\n",
              "      border-radius: 50%;\n",
              "      cursor: pointer;\n",
              "      display: none;\n",
              "      fill: #1967D2;\n",
              "      height: 32px;\n",
              "      padding: 0 0 0 0;\n",
              "      width: 32px;\n",
              "    }\n",
              "\n",
              "    .colab-df-convert:hover {\n",
              "      background-color: #E2EBFA;\n",
              "      box-shadow: 0px 1px 2px rgba(60, 64, 67, 0.3), 0px 1px 3px 1px rgba(60, 64, 67, 0.15);\n",
              "      fill: #174EA6;\n",
              "    }\n",
              "\n",
              "    [theme=dark] .colab-df-convert {\n",
              "      background-color: #3B4455;\n",
              "      fill: #D2E3FC;\n",
              "    }\n",
              "\n",
              "    [theme=dark] .colab-df-convert:hover {\n",
              "      background-color: #434B5C;\n",
              "      box-shadow: 0px 1px 3px 1px rgba(0, 0, 0, 0.15);\n",
              "      filter: drop-shadow(0px 1px 2px rgba(0, 0, 0, 0.3));\n",
              "      fill: #FFFFFF;\n",
              "    }\n",
              "  </style>\n",
              "\n",
              "      <script>\n",
              "        const buttonEl =\n",
              "          document.querySelector('#df-b6a8157a-9e60-4142-8e98-7b081a61f181 button.colab-df-convert');\n",
              "        buttonEl.style.display =\n",
              "          google.colab.kernel.accessAllowed ? 'block' : 'none';\n",
              "\n",
              "        async function convertToInteractive(key) {\n",
              "          const element = document.querySelector('#df-b6a8157a-9e60-4142-8e98-7b081a61f181');\n",
              "          const dataTable =\n",
              "            await google.colab.kernel.invokeFunction('convertToInteractive',\n",
              "                                                     [key], {});\n",
              "          if (!dataTable) return;\n",
              "\n",
              "          const docLinkHtml = 'Like what you see? Visit the ' +\n",
              "            '<a target=\"_blank\" href=https://colab.research.google.com/notebooks/data_table.ipynb>data table notebook</a>'\n",
              "            + ' to learn more about interactive tables.';\n",
              "          element.innerHTML = '';\n",
              "          dataTable['output_type'] = 'display_data';\n",
              "          await google.colab.output.renderOutput(dataTable, element);\n",
              "          const docLink = document.createElement('div');\n",
              "          docLink.innerHTML = docLinkHtml;\n",
              "          element.appendChild(docLink);\n",
              "        }\n",
              "      </script>\n",
              "    </div>\n",
              "  </div>\n",
              "  "
            ],
            "text/plain": [
              "    m2  quartos  banheiro  garagem  andar  animais  moveis  condominio  \\\n",
              "0   70        2         1        1      7        1       1        2065   \n",
              "1  320        4         4        0     20        1       0        1200   \n",
              "4   25        1         1        0      1        0       0           0   \n",
              "5  376        3         3        7      0        1       0           0   \n",
              "7  213        4         4        4      4        1       0        2254   \n",
              "\n",
              "   taxas (R$)  \n",
              "0         211  \n",
              "1        1750  \n",
              "4          25  \n",
              "5         834  \n",
              "7        1735  "
            ]
          },
          "execution_count": 40,
          "metadata": {},
          "output_type": "execute_result"
        }
      ],
      "source": [
        "# Caracterticas\n",
        "Caracteristicas.head()"
      ]
    },
    {
      "cell_type": "code",
      "execution_count": null,
      "metadata": {
        "colab": {
          "base_uri": "https://localhost:8080/"
        },
        "id": "c7Gwimu6DPjc",
        "outputId": "d549cbac-b815-4e3b-d586-2e1abc976bb1"
      },
      "outputs": [
        {
          "data": {
            "text/plain": [
              "0    3300\n",
              "1    4960\n",
              "4     800\n",
              "5    8000\n",
              "7    3223\n",
              "Name: aluguel (R$), dtype: int64"
            ]
          },
          "execution_count": 41,
          "metadata": {},
          "output_type": "execute_result"
        }
      ],
      "source": [
        "# Previsoor\n",
        "Previsor.head()"
      ]
    },
    {
      "cell_type": "code",
      "execution_count": null,
      "metadata": {
        "colab": {
          "base_uri": "https://localhost:8080/",
          "height": 363
        },
        "id": "9cwQhrMbDjzj",
        "outputId": "2d38737b-7433-4c63-aef2-899071854684"
      },
      "outputs": [
        {
          "data": {
            "text/html": [
              "\n",
              "  <div id=\"df-98d9d16d-0944-4720-ad82-2e5959c44362\">\n",
              "    <div class=\"colab-df-container\">\n",
              "      <div>\n",
              "<style scoped>\n",
              "    .dataframe tbody tr th:only-of-type {\n",
              "        vertical-align: middle;\n",
              "    }\n",
              "\n",
              "    .dataframe tbody tr th {\n",
              "        vertical-align: top;\n",
              "    }\n",
              "\n",
              "    .dataframe thead th {\n",
              "        text-align: right;\n",
              "    }\n",
              "</style>\n",
              "<table border=\"1\" class=\"dataframe\">\n",
              "  <thead>\n",
              "    <tr style=\"text-align: right;\">\n",
              "      <th></th>\n",
              "      <th>m2</th>\n",
              "      <th>quartos</th>\n",
              "      <th>banheiro</th>\n",
              "      <th>garagem</th>\n",
              "      <th>andar</th>\n",
              "      <th>animais</th>\n",
              "      <th>moveis</th>\n",
              "      <th>condominio</th>\n",
              "      <th>aluguel (R$)</th>\n",
              "      <th>taxas (R$)</th>\n",
              "    </tr>\n",
              "  </thead>\n",
              "  <tbody>\n",
              "    <tr>\n",
              "      <th>m2</th>\n",
              "      <td>1.000000</td>\n",
              "      <td>0.306863</td>\n",
              "      <td>0.316543</td>\n",
              "      <td>0.300795</td>\n",
              "      <td>-0.038790</td>\n",
              "      <td>0.073565</td>\n",
              "      <td>-0.018145</td>\n",
              "      <td>0.056091</td>\n",
              "      <td>0.274749</td>\n",
              "      <td>0.065289</td>\n",
              "    </tr>\n",
              "    <tr>\n",
              "      <th>quartos</th>\n",
              "      <td>0.306863</td>\n",
              "      <td>1.000000</td>\n",
              "      <td>0.759432</td>\n",
              "      <td>0.645041</td>\n",
              "      <td>-0.092117</td>\n",
              "      <td>0.213963</td>\n",
              "      <td>-0.088931</td>\n",
              "      <td>0.136343</td>\n",
              "      <td>0.537622</td>\n",
              "      <td>0.071702</td>\n",
              "    </tr>\n",
              "    <tr>\n",
              "      <th>banheiro</th>\n",
              "      <td>0.316543</td>\n",
              "      <td>0.759432</td>\n",
              "      <td>1.000000</td>\n",
              "      <td>0.703530</td>\n",
              "      <td>-0.015503</td>\n",
              "      <td>0.159097</td>\n",
              "      <td>0.005864</td>\n",
              "      <td>0.163205</td>\n",
              "      <td>0.638924</td>\n",
              "      <td>0.101616</td>\n",
              "    </tr>\n",
              "    <tr>\n",
              "      <th>garagem</th>\n",
              "      <td>0.300795</td>\n",
              "      <td>0.645041</td>\n",
              "      <td>0.703530</td>\n",
              "      <td>1.000000</td>\n",
              "      <td>-0.038378</td>\n",
              "      <td>0.165253</td>\n",
              "      <td>-0.015155</td>\n",
              "      <td>0.115951</td>\n",
              "      <td>0.573373</td>\n",
              "      <td>0.092362</td>\n",
              "    </tr>\n",
              "    <tr>\n",
              "      <th>andar</th>\n",
              "      <td>-0.038790</td>\n",
              "      <td>-0.092117</td>\n",
              "      <td>-0.015503</td>\n",
              "      <td>-0.038378</td>\n",
              "      <td>1.000000</td>\n",
              "      <td>-0.014202</td>\n",
              "      <td>0.135180</td>\n",
              "      <td>0.107211</td>\n",
              "      <td>0.065294</td>\n",
              "      <td>0.005672</td>\n",
              "    </tr>\n",
              "    <tr>\n",
              "      <th>animais</th>\n",
              "      <td>0.073565</td>\n",
              "      <td>0.213963</td>\n",
              "      <td>0.159097</td>\n",
              "      <td>0.165253</td>\n",
              "      <td>-0.014202</td>\n",
              "      <td>1.000000</td>\n",
              "      <td>-0.066208</td>\n",
              "      <td>0.020575</td>\n",
              "      <td>0.107147</td>\n",
              "      <td>-0.005308</td>\n",
              "    </tr>\n",
              "    <tr>\n",
              "      <th>moveis</th>\n",
              "      <td>-0.018145</td>\n",
              "      <td>-0.088931</td>\n",
              "      <td>0.005864</td>\n",
              "      <td>-0.015155</td>\n",
              "      <td>0.135180</td>\n",
              "      <td>-0.066208</td>\n",
              "      <td>1.000000</td>\n",
              "      <td>0.042860</td>\n",
              "      <td>0.154316</td>\n",
              "      <td>-0.007852</td>\n",
              "    </tr>\n",
              "    <tr>\n",
              "      <th>condominio</th>\n",
              "      <td>0.056091</td>\n",
              "      <td>0.136343</td>\n",
              "      <td>0.163205</td>\n",
              "      <td>0.115951</td>\n",
              "      <td>0.107211</td>\n",
              "      <td>0.020575</td>\n",
              "      <td>0.042860</td>\n",
              "      <td>1.000000</td>\n",
              "      <td>0.188147</td>\n",
              "      <td>0.028872</td>\n",
              "    </tr>\n",
              "    <tr>\n",
              "      <th>aluguel (R$)</th>\n",
              "      <td>0.274749</td>\n",
              "      <td>0.537622</td>\n",
              "      <td>0.638924</td>\n",
              "      <td>0.573373</td>\n",
              "      <td>0.065294</td>\n",
              "      <td>0.107147</td>\n",
              "      <td>0.154316</td>\n",
              "      <td>0.188147</td>\n",
              "      <td>1.000000</td>\n",
              "      <td>0.091749</td>\n",
              "    </tr>\n",
              "    <tr>\n",
              "      <th>taxas (R$)</th>\n",
              "      <td>0.065289</td>\n",
              "      <td>0.071702</td>\n",
              "      <td>0.101616</td>\n",
              "      <td>0.092362</td>\n",
              "      <td>0.005672</td>\n",
              "      <td>-0.005308</td>\n",
              "      <td>-0.007852</td>\n",
              "      <td>0.028872</td>\n",
              "      <td>0.091749</td>\n",
              "      <td>1.000000</td>\n",
              "    </tr>\n",
              "  </tbody>\n",
              "</table>\n",
              "</div>\n",
              "      <button class=\"colab-df-convert\" onclick=\"convertToInteractive('df-98d9d16d-0944-4720-ad82-2e5959c44362')\"\n",
              "              title=\"Convert this dataframe to an interactive table.\"\n",
              "              style=\"display:none;\">\n",
              "        \n",
              "  <svg xmlns=\"http://www.w3.org/2000/svg\" height=\"24px\"viewBox=\"0 0 24 24\"\n",
              "       width=\"24px\">\n",
              "    <path d=\"M0 0h24v24H0V0z\" fill=\"none\"/>\n",
              "    <path d=\"M18.56 5.44l.94 2.06.94-2.06 2.06-.94-2.06-.94-.94-2.06-.94 2.06-2.06.94zm-11 1L8.5 8.5l.94-2.06 2.06-.94-2.06-.94L8.5 2.5l-.94 2.06-2.06.94zm10 10l.94 2.06.94-2.06 2.06-.94-2.06-.94-.94-2.06-.94 2.06-2.06.94z\"/><path d=\"M17.41 7.96l-1.37-1.37c-.4-.4-.92-.59-1.43-.59-.52 0-1.04.2-1.43.59L10.3 9.45l-7.72 7.72c-.78.78-.78 2.05 0 2.83L4 21.41c.39.39.9.59 1.41.59.51 0 1.02-.2 1.41-.59l7.78-7.78 2.81-2.81c.8-.78.8-2.07 0-2.86zM5.41 20L4 18.59l7.72-7.72 1.47 1.35L5.41 20z\"/>\n",
              "  </svg>\n",
              "      </button>\n",
              "      \n",
              "  <style>\n",
              "    .colab-df-container {\n",
              "      display:flex;\n",
              "      flex-wrap:wrap;\n",
              "      gap: 12px;\n",
              "    }\n",
              "\n",
              "    .colab-df-convert {\n",
              "      background-color: #E8F0FE;\n",
              "      border: none;\n",
              "      border-radius: 50%;\n",
              "      cursor: pointer;\n",
              "      display: none;\n",
              "      fill: #1967D2;\n",
              "      height: 32px;\n",
              "      padding: 0 0 0 0;\n",
              "      width: 32px;\n",
              "    }\n",
              "\n",
              "    .colab-df-convert:hover {\n",
              "      background-color: #E2EBFA;\n",
              "      box-shadow: 0px 1px 2px rgba(60, 64, 67, 0.3), 0px 1px 3px 1px rgba(60, 64, 67, 0.15);\n",
              "      fill: #174EA6;\n",
              "    }\n",
              "\n",
              "    [theme=dark] .colab-df-convert {\n",
              "      background-color: #3B4455;\n",
              "      fill: #D2E3FC;\n",
              "    }\n",
              "\n",
              "    [theme=dark] .colab-df-convert:hover {\n",
              "      background-color: #434B5C;\n",
              "      box-shadow: 0px 1px 3px 1px rgba(0, 0, 0, 0.15);\n",
              "      filter: drop-shadow(0px 1px 2px rgba(0, 0, 0, 0.3));\n",
              "      fill: #FFFFFF;\n",
              "    }\n",
              "  </style>\n",
              "\n",
              "      <script>\n",
              "        const buttonEl =\n",
              "          document.querySelector('#df-98d9d16d-0944-4720-ad82-2e5959c44362 button.colab-df-convert');\n",
              "        buttonEl.style.display =\n",
              "          google.colab.kernel.accessAllowed ? 'block' : 'none';\n",
              "\n",
              "        async function convertToInteractive(key) {\n",
              "          const element = document.querySelector('#df-98d9d16d-0944-4720-ad82-2e5959c44362');\n",
              "          const dataTable =\n",
              "            await google.colab.kernel.invokeFunction('convertToInteractive',\n",
              "                                                     [key], {});\n",
              "          if (!dataTable) return;\n",
              "\n",
              "          const docLinkHtml = 'Like what you see? Visit the ' +\n",
              "            '<a target=\"_blank\" href=https://colab.research.google.com/notebooks/data_table.ipynb>data table notebook</a>'\n",
              "            + ' to learn more about interactive tables.';\n",
              "          element.innerHTML = '';\n",
              "          dataTable['output_type'] = 'display_data';\n",
              "          await google.colab.output.renderOutput(dataTable, element);\n",
              "          const docLink = document.createElement('div');\n",
              "          docLink.innerHTML = docLinkHtml;\n",
              "          element.appendChild(docLink);\n",
              "        }\n",
              "      </script>\n",
              "    </div>\n",
              "  </div>\n",
              "  "
            ],
            "text/plain": [
              "                    m2   quartos  banheiro   garagem     andar   animais  \\\n",
              "m2            1.000000  0.306863  0.316543  0.300795 -0.038790  0.073565   \n",
              "quartos       0.306863  1.000000  0.759432  0.645041 -0.092117  0.213963   \n",
              "banheiro      0.316543  0.759432  1.000000  0.703530 -0.015503  0.159097   \n",
              "garagem       0.300795  0.645041  0.703530  1.000000 -0.038378  0.165253   \n",
              "andar        -0.038790 -0.092117 -0.015503 -0.038378  1.000000 -0.014202   \n",
              "animais       0.073565  0.213963  0.159097  0.165253 -0.014202  1.000000   \n",
              "moveis       -0.018145 -0.088931  0.005864 -0.015155  0.135180 -0.066208   \n",
              "condominio    0.056091  0.136343  0.163205  0.115951  0.107211  0.020575   \n",
              "aluguel (R$)  0.274749  0.537622  0.638924  0.573373  0.065294  0.107147   \n",
              "taxas (R$)    0.065289  0.071702  0.101616  0.092362  0.005672 -0.005308   \n",
              "\n",
              "                moveis  condominio  aluguel (R$)  taxas (R$)  \n",
              "m2           -0.018145    0.056091      0.274749    0.065289  \n",
              "quartos      -0.088931    0.136343      0.537622    0.071702  \n",
              "banheiro      0.005864    0.163205      0.638924    0.101616  \n",
              "garagem      -0.015155    0.115951      0.573373    0.092362  \n",
              "andar         0.135180    0.107211      0.065294    0.005672  \n",
              "animais      -0.066208    0.020575      0.107147   -0.005308  \n",
              "moveis        1.000000    0.042860      0.154316   -0.007852  \n",
              "condominio    0.042860    1.000000      0.188147    0.028872  \n",
              "aluguel (R$)  0.154316    0.188147      1.000000    0.091749  \n",
              "taxas (R$)   -0.007852    0.028872      0.091749    1.000000  "
            ]
          },
          "execution_count": 42,
          "metadata": {},
          "output_type": "execute_result"
        }
      ],
      "source": [
        "# Correlação\n",
        "Filtro_SP.corr()\n",
        "\n",
        "# Proxima de 1 - Correlação Possitva [ Ambas Sobem ]\n",
        "# Proxima de -1 - Correlação Negativa [ Uma sobe outra desce ]"
      ]
    },
    {
      "cell_type": "code",
      "execution_count": null,
      "metadata": {
        "colab": {
          "base_uri": "https://localhost:8080/",
          "height": 403
        },
        "id": "eT14OaEMDRe_",
        "outputId": "eb213b2f-8d6a-4c21-e959-6522b3e97f15"
      },
      "outputs": [
        {
          "data": {
            "image/png": "[encoded data removed]",
            "text/plain": [
              "<Figure size 576x396 with 2 Axes>"
            ]
          },
          "metadata": {},
          "output_type": "display_data"
        }
      ],
      "source": [
        "# Yellowbrick\n",
        "from yellowbrick.features import Rank2D\n",
        "\n",
        "# Definir o metodo\n",
        "Correlacao = Rank2D( algoritmo='pearson' )\n",
        "\n",
        "# Fitar função\n",
        "Correlacao.fit( Caracteristicas, Previsor )\n",
        "Correlacao.transform( Caracteristicas )\n",
        "Correlacao.show();"
      ]
    },
    {
      "cell_type": "code",
      "execution_count": null,
      "metadata": {
        "colab": {
          "base_uri": "https://localhost:8080/"
        },
        "id": "zcHG7uhbEWYU",
        "outputId": "857168d8-714f-40e4-e2a2-f9a0d3ea150d"
      },
      "outputs": [
        {
          "name": "stdout",
          "output_type": "stream",
          "text": [
            "Dados de Treino: 4709\n",
            "Dados de Teste: 1178\n"
          ]
        }
      ],
      "source": [
        "# Separa os dadoos\n",
        "from sklearn.model_selection import train_test_split\n",
        "\n",
        "# Divisão dos dados\n",
        "x_treino, x_teste, y_treino, y_teste = train_test_split(\n",
        "    Caracteristicas, Previsor, test_size=0.2, random_state=10\n",
        ")\n",
        "\n",
        "print(f'Dados de Treino: { x_treino.shape[0] }')\n",
        "print(f'Dados de Teste: { x_teste.shape[0] }')"
      ]
    },
    {
      "cell_type": "code",
      "execution_count": null,
      "metadata": {
        "colab": {
          "base_uri": "https://localhost:8080/"
        },
        "id": "8dWlqYcYG6G_",
        "outputId": "4c6702b4-e6d1-48c5-b5a6-21e1628831eb"
      },
      "outputs": [
        {
          "name": "stdout",
          "output_type": "stream",
          "text": [
            " m2 : 0.06019868626286229\n",
            " quartos : 0.25417942307080477\n",
            " banheiro : 0.29911915506850706\n",
            " garagem : 0.24719337299703792\n",
            " andar : 0.02973791222079525\n",
            " animais : 0.03794163878420864\n",
            " moveis : 0.04582933857164395\n",
            " condominio : 0.055768600520991196\n",
            " taxas (R$) : 0.18041315404232128\n"
          ]
        }
      ],
      "source": [
        "# Features mais relevantes\n",
        "from sklearn.feature_selection import mutual_info_regression\n",
        "from sklearn.feature_selection import SelectKBest\n",
        "\n",
        "# Selecao de features\n",
        "def Selecao_Features( x_treino, y_treino ):\n",
        "\n",
        "  # Configurar para selecionar as features\n",
        "  Selecao = SelectKBest( score_func=mutual_info_regression, k=5 )\n",
        "\n",
        "  # Fitar o aprendizado\n",
        "  Selecao.fit( x_treino, y_treino )\n",
        "\n",
        "  return Selecao\n",
        "\n",
        "# Aplicar essa função\n",
        "Scores = Selecao_Features( x_treino, y_treino )\n",
        "\n",
        "# Analisar\n",
        "for Posicao, Score in enumerate( Scores.scores_ ):\n",
        "  print( f' { x_treino.columns[Posicao] } : {Score}' )"
      ]
    },
    {
      "cell_type": "markdown",
      "metadata": {
        "id": "N1jGIm16I9B7"
      },
      "source": [
        "# **Construção do Modelo**"
      ]
    },
    {
      "cell_type": "code",
      "execution_count": null,
      "metadata": {
        "colab": {
          "base_uri": "https://localhost:8080/"
        },
        "id": "cz7IW6elJgbN",
        "outputId": "11515064-40ad-4fa3-cee7-5f4e7035dd19"
      },
      "outputs": [
        {
          "data": {
            "text/plain": [
              "RandomForestRegressor(max_depth=5)"
            ]
          },
          "execution_count": 46,
          "metadata": {},
          "output_type": "execute_result"
        }
      ],
      "source": [
        "# Modelo Random Forest Regresson\n",
        "from sklearn.ensemble import RandomForestRegressor\n",
        "\n",
        "# Instanciar\n",
        "Modelo_Floresta = RandomForestRegressor( max_depth=5 )\n",
        "\n",
        "# Fitar \n",
        "Modelo_Floresta.fit( x_treino, y_treino )"
      ]
    },
    {
      "cell_type": "code",
      "execution_count": null,
      "metadata": {
        "colab": {
          "base_uri": "https://localhost:8080/"
        },
        "id": "qzopoBR3Kij1",
        "outputId": "1f1e4d1c-f006-464e-fe5f-4c039c1fb276"
      },
      "outputs": [
        {
          "name": "stdout",
          "output_type": "stream",
          "text": [
            "RMSE: 2467.721911764095 \n",
            "Score: 0.5592583300066536 \n"
          ]
        }
      ],
      "source": [
        "# Avaliar a performance\n",
        "Previsoes = Modelo_Floresta.predict( x_teste )\n",
        "\n",
        "# Funcao para avaliar\n",
        "from sklearn.metrics import mean_squared_error, r2_score\n",
        "from math import sqrt\n",
        "\n",
        "print(f'RMSE: { sqrt(mean_squared_error( y_teste, Previsoes ) ) } ')\n",
        "print(f'Score: { r2_score( y_teste, Previsoes ) } ')"
      ]
    },
    {
      "cell_type": "code",
      "execution_count": null,
      "metadata": {
        "colab": {
          "base_uri": "https://localhost:8080/",
          "height": 378
        },
        "id": "qp53CxfWMD-O",
        "outputId": "39cc5c00-8ce5-49d5-c013-827eff522f70"
      },
      "outputs": [
        {
          "data": {
            "image/png": "[encoded data removed]",
            "text/plain": [
              "<Figure size 576x396 with 1 Axes>"
            ]
          },
          "metadata": {},
          "output_type": "display_data"
        }
      ],
      "source": [
        "# Avaliando Yellowbrick\n",
        "from yellowbrick.regressor import PredictionError\n",
        "\n",
        "# Instanciar\n",
        "Modelo = RandomForestRegressor( max_depth=5 )\n",
        "Erro_Modelo = PredictionError( Modelo )\n",
        "\n",
        "# Fitar\n",
        "Erro_Modelo.fit( x_treino, y_treino )\n",
        "Erro_Modelo.score( x_teste, y_teste )\n",
        "Erro_Modelo.show()"
      ]
    },
    {
      "cell_type": "markdown",
      "metadata": {
        "id": "VhPd5Mu2RwXN"
      },
      "source": [
        "# **Exportação**"
      ]
    },
    {
      "cell_type": "code",
      "execution_count": null,
      "metadata": {
        "colab": {
          "base_uri": "https://localhost:8080/"
        },
        "id": "OuqwIlqeRyDx",
        "outputId": "1566d6e0-d3d0-4ff3-ed01-2529e5f1008a"
      },
      "outputs": [
        {
          "data": {
            "text/plain": [
              "['Modelo_Floresta_Aleatorio_v100.pkl']"
            ]
          },
          "execution_count": 49,
          "metadata": {},
          "output_type": "execute_result"
        }
      ],
      "source": [
        "# Exportando o modelo\n",
        "import joblib\n",
        "\n",
        "# Função\n",
        "joblib.dump( Modelo_Floresta, 'Modelo_Floresta_Aleatorio_v100.pkl')"
      ]
    },
    {
      "cell_type": "code",
      "execution_count": null,
      "metadata": {
        "id": "NELhB3qBSGsJ"
      },
      "outputs": [],
      "source": [
        "# Testando o modelo treinado\n",
        "Funcao_Modelo_Carregado = joblib.load('Modelo_Floresta_Aleatorio_v100.pkl')"
      ]
    },
    {
      "cell_type": "code",
      "execution_count": null,
      "metadata": {
        "colab": {
          "base_uri": "https://localhost:8080/"
        },
        "id": "ZaK_4E5RSUvI",
        "outputId": "cad34ecf-1d87-4b33-93b6-f9136142eec5"
      },
      "outputs": [
        {
          "data": {
            "text/plain": [
              "array([1560.38066265])"
            ]
          },
          "execution_count": 51,
          "metadata": {},
          "output_type": "execute_result"
        }
      ],
      "source": [
        "# Testando\n",
        "Funcao_Modelo_Carregado.predict( x_teste.head(1).values )"
      ]
    }
  ],
  "metadata": {
    "colab": {
      "collapsed_sections": [
        "foy8FDTHori6",
        "qCqYzCS7wKnq"
      ],
      "provenance": []
    },
    "kernelspec": {
      "display_name": "Python 3",
      "language": "python",
      "name": "python3"
    },
    "language_info": {
      "name": "python",
      "version": "3.11.1"
    },
    "vscode": {
      "interpreter": {
        "hash": "d82c1d93bb306390d09f23da3285a8fc51ae2f3168294d711572deb5a95602ca"
      }
    }
  },
  "nbformat": 4,
  "nbformat_minor": 0
}
